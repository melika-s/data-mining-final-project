{
  "cells": [
    {
      "cell_type": "markdown",
      "metadata": {
        "id": "5_BLNhyCoS89"
      },
      "source": [
        "# **Importing**"
      ]
    },
    {
      "cell_type": "code",
      "execution_count": 135,
      "metadata": {
        "id": "l65uMY7noDPy"
      },
      "outputs": [],
      "source": [
        "import numpy as np\n",
        "import pandas as pd"
      ]
    },
    {
      "cell_type": "code",
      "source": [
        "import copy"
      ],
      "metadata": {
        "id": "iVPVon4jAa4U"
      },
      "execution_count": 136,
      "outputs": []
    },
    {
      "cell_type": "markdown",
      "metadata": {
        "id": "bfYjPuMD5vCH"
      },
      "source": [
        "# **Data**"
      ]
    },
    {
      "cell_type": "code",
      "execution_count": 137,
      "metadata": {
        "id": "ene5xN-ypBpm"
      },
      "outputs": [],
      "source": [
        "data = pd.DataFrame(columns = ['color', 'outline', 'has_dot', 'shape'])"
      ]
    },
    {
      "cell_type": "code",
      "execution_count": 138,
      "metadata": {
        "id": "ZC5VRdJ16gB2"
      },
      "outputs": [],
      "source": [
        "def create_data(location, color, outline, has_dot, shape):\n",
        "  data.loc[location] = pd.Series({'color': color, 'outline': outline, 'has_dot': has_dot, 'shape': shape})\n",
        "  return data"
      ]
    },
    {
      "cell_type": "code",
      "execution_count": 139,
      "metadata": {
        "colab": {
          "base_uri": "https://localhost:8080/",
          "height": 488
        },
        "id": "dXXq6wqpqb1Y",
        "outputId": "75e603b8-e1af-476b-9989-6f524eb3b3f8"
      },
      "outputs": [
        {
          "output_type": "execute_result",
          "data": {
            "text/plain": [
              "     color outline has_dot     shape\n",
              "0    Green  Dashed      No  Triangle\n",
              "1    Green  Dashed     Yes  Triangle\n",
              "2   Yellow  Dashed      No    Square\n",
              "3      Red  Dashed      No    Square\n",
              "4      Red   Solid      No    Square\n",
              "5      Red   Solid     Yes  Triangle\n",
              "6    Green   Solid      No    Square\n",
              "7    Green  Dashed      No  Triangle\n",
              "8   Yellow   Solid     Yes    Square\n",
              "9      Red   Solid      No    Square\n",
              "10   Green   Solid     Yes    Square\n",
              "11  Yellow  Dashed     Yes    Square\n",
              "12  Yellow   Solid      No    Square\n",
              "13     Red  Dashed     Yes  Triangle"
            ],
            "text/html": [
              "\n",
              "\n",
              "  <div id=\"df-b07b9be5-1cfa-49e7-a987-950a58b58dc0\">\n",
              "    <div class=\"colab-df-container\">\n",
              "      <div>\n",
              "<style scoped>\n",
              "    .dataframe tbody tr th:only-of-type {\n",
              "        vertical-align: middle;\n",
              "    }\n",
              "\n",
              "    .dataframe tbody tr th {\n",
              "        vertical-align: top;\n",
              "    }\n",
              "\n",
              "    .dataframe thead th {\n",
              "        text-align: right;\n",
              "    }\n",
              "</style>\n",
              "<table border=\"1\" class=\"dataframe\">\n",
              "  <thead>\n",
              "    <tr style=\"text-align: right;\">\n",
              "      <th></th>\n",
              "      <th>color</th>\n",
              "      <th>outline</th>\n",
              "      <th>has_dot</th>\n",
              "      <th>shape</th>\n",
              "    </tr>\n",
              "  </thead>\n",
              "  <tbody>\n",
              "    <tr>\n",
              "      <th>0</th>\n",
              "      <td>Green</td>\n",
              "      <td>Dashed</td>\n",
              "      <td>No</td>\n",
              "      <td>Triangle</td>\n",
              "    </tr>\n",
              "    <tr>\n",
              "      <th>1</th>\n",
              "      <td>Green</td>\n",
              "      <td>Dashed</td>\n",
              "      <td>Yes</td>\n",
              "      <td>Triangle</td>\n",
              "    </tr>\n",
              "    <tr>\n",
              "      <th>2</th>\n",
              "      <td>Yellow</td>\n",
              "      <td>Dashed</td>\n",
              "      <td>No</td>\n",
              "      <td>Square</td>\n",
              "    </tr>\n",
              "    <tr>\n",
              "      <th>3</th>\n",
              "      <td>Red</td>\n",
              "      <td>Dashed</td>\n",
              "      <td>No</td>\n",
              "      <td>Square</td>\n",
              "    </tr>\n",
              "    <tr>\n",
              "      <th>4</th>\n",
              "      <td>Red</td>\n",
              "      <td>Solid</td>\n",
              "      <td>No</td>\n",
              "      <td>Square</td>\n",
              "    </tr>\n",
              "    <tr>\n",
              "      <th>5</th>\n",
              "      <td>Red</td>\n",
              "      <td>Solid</td>\n",
              "      <td>Yes</td>\n",
              "      <td>Triangle</td>\n",
              "    </tr>\n",
              "    <tr>\n",
              "      <th>6</th>\n",
              "      <td>Green</td>\n",
              "      <td>Solid</td>\n",
              "      <td>No</td>\n",
              "      <td>Square</td>\n",
              "    </tr>\n",
              "    <tr>\n",
              "      <th>7</th>\n",
              "      <td>Green</td>\n",
              "      <td>Dashed</td>\n",
              "      <td>No</td>\n",
              "      <td>Triangle</td>\n",
              "    </tr>\n",
              "    <tr>\n",
              "      <th>8</th>\n",
              "      <td>Yellow</td>\n",
              "      <td>Solid</td>\n",
              "      <td>Yes</td>\n",
              "      <td>Square</td>\n",
              "    </tr>\n",
              "    <tr>\n",
              "      <th>9</th>\n",
              "      <td>Red</td>\n",
              "      <td>Solid</td>\n",
              "      <td>No</td>\n",
              "      <td>Square</td>\n",
              "    </tr>\n",
              "    <tr>\n",
              "      <th>10</th>\n",
              "      <td>Green</td>\n",
              "      <td>Solid</td>\n",
              "      <td>Yes</td>\n",
              "      <td>Square</td>\n",
              "    </tr>\n",
              "    <tr>\n",
              "      <th>11</th>\n",
              "      <td>Yellow</td>\n",
              "      <td>Dashed</td>\n",
              "      <td>Yes</td>\n",
              "      <td>Square</td>\n",
              "    </tr>\n",
              "    <tr>\n",
              "      <th>12</th>\n",
              "      <td>Yellow</td>\n",
              "      <td>Solid</td>\n",
              "      <td>No</td>\n",
              "      <td>Square</td>\n",
              "    </tr>\n",
              "    <tr>\n",
              "      <th>13</th>\n",
              "      <td>Red</td>\n",
              "      <td>Dashed</td>\n",
              "      <td>Yes</td>\n",
              "      <td>Triangle</td>\n",
              "    </tr>\n",
              "  </tbody>\n",
              "</table>\n",
              "</div>\n",
              "      <button class=\"colab-df-convert\" onclick=\"convertToInteractive('df-b07b9be5-1cfa-49e7-a987-950a58b58dc0')\"\n",
              "              title=\"Convert this dataframe to an interactive table.\"\n",
              "              style=\"display:none;\">\n",
              "\n",
              "  <svg xmlns=\"http://www.w3.org/2000/svg\" height=\"24px\"viewBox=\"0 0 24 24\"\n",
              "       width=\"24px\">\n",
              "    <path d=\"M0 0h24v24H0V0z\" fill=\"none\"/>\n",
              "    <path d=\"M18.56 5.44l.94 2.06.94-2.06 2.06-.94-2.06-.94-.94-2.06-.94 2.06-2.06.94zm-11 1L8.5 8.5l.94-2.06 2.06-.94-2.06-.94L8.5 2.5l-.94 2.06-2.06.94zm10 10l.94 2.06.94-2.06 2.06-.94-2.06-.94-.94-2.06-.94 2.06-2.06.94z\"/><path d=\"M17.41 7.96l-1.37-1.37c-.4-.4-.92-.59-1.43-.59-.52 0-1.04.2-1.43.59L10.3 9.45l-7.72 7.72c-.78.78-.78 2.05 0 2.83L4 21.41c.39.39.9.59 1.41.59.51 0 1.02-.2 1.41-.59l7.78-7.78 2.81-2.81c.8-.78.8-2.07 0-2.86zM5.41 20L4 18.59l7.72-7.72 1.47 1.35L5.41 20z\"/>\n",
              "  </svg>\n",
              "      </button>\n",
              "\n",
              "\n",
              "\n",
              "    <div id=\"df-ce2a77ec-2c53-4792-b41f-eb1dd7b5c8b1\">\n",
              "      <button class=\"colab-df-quickchart\" onclick=\"quickchart('df-ce2a77ec-2c53-4792-b41f-eb1dd7b5c8b1')\"\n",
              "              title=\"Suggest charts.\"\n",
              "              style=\"display:none;\">\n",
              "\n",
              "<svg xmlns=\"http://www.w3.org/2000/svg\" height=\"24px\"viewBox=\"0 0 24 24\"\n",
              "     width=\"24px\">\n",
              "    <g>\n",
              "        <path d=\"M19 3H5c-1.1 0-2 .9-2 2v14c0 1.1.9 2 2 2h14c1.1 0 2-.9 2-2V5c0-1.1-.9-2-2-2zM9 17H7v-7h2v7zm4 0h-2V7h2v10zm4 0h-2v-4h2v4z\"/>\n",
              "    </g>\n",
              "</svg>\n",
              "      </button>\n",
              "    </div>\n",
              "\n",
              "<style>\n",
              "  .colab-df-quickchart {\n",
              "    background-color: #E8F0FE;\n",
              "    border: none;\n",
              "    border-radius: 50%;\n",
              "    cursor: pointer;\n",
              "    display: none;\n",
              "    fill: #1967D2;\n",
              "    height: 32px;\n",
              "    padding: 0 0 0 0;\n",
              "    width: 32px;\n",
              "  }\n",
              "\n",
              "  .colab-df-quickchart:hover {\n",
              "    background-color: #E2EBFA;\n",
              "    box-shadow: 0px 1px 2px rgba(60, 64, 67, 0.3), 0px 1px 3px 1px rgba(60, 64, 67, 0.15);\n",
              "    fill: #174EA6;\n",
              "  }\n",
              "\n",
              "  [theme=dark] .colab-df-quickchart {\n",
              "    background-color: #3B4455;\n",
              "    fill: #D2E3FC;\n",
              "  }\n",
              "\n",
              "  [theme=dark] .colab-df-quickchart:hover {\n",
              "    background-color: #434B5C;\n",
              "    box-shadow: 0px 1px 3px 1px rgba(0, 0, 0, 0.15);\n",
              "    filter: drop-shadow(0px 1px 2px rgba(0, 0, 0, 0.3));\n",
              "    fill: #FFFFFF;\n",
              "  }\n",
              "</style>\n",
              "\n",
              "    <script>\n",
              "      async function quickchart(key) {\n",
              "        const containerElement = document.querySelector('#' + key);\n",
              "        const charts = await google.colab.kernel.invokeFunction(\n",
              "            'suggestCharts', [key], {});\n",
              "      }\n",
              "    </script>\n",
              "\n",
              "      <script>\n",
              "\n",
              "function displayQuickchartButton(domScope) {\n",
              "  let quickchartButtonEl =\n",
              "    domScope.querySelector('#df-ce2a77ec-2c53-4792-b41f-eb1dd7b5c8b1 button.colab-df-quickchart');\n",
              "  quickchartButtonEl.style.display =\n",
              "    google.colab.kernel.accessAllowed ? 'block' : 'none';\n",
              "}\n",
              "\n",
              "        displayQuickchartButton(document);\n",
              "      </script>\n",
              "      <style>\n",
              "    .colab-df-container {\n",
              "      display:flex;\n",
              "      flex-wrap:wrap;\n",
              "      gap: 12px;\n",
              "    }\n",
              "\n",
              "    .colab-df-convert {\n",
              "      background-color: #E8F0FE;\n",
              "      border: none;\n",
              "      border-radius: 50%;\n",
              "      cursor: pointer;\n",
              "      display: none;\n",
              "      fill: #1967D2;\n",
              "      height: 32px;\n",
              "      padding: 0 0 0 0;\n",
              "      width: 32px;\n",
              "    }\n",
              "\n",
              "    .colab-df-convert:hover {\n",
              "      background-color: #E2EBFA;\n",
              "      box-shadow: 0px 1px 2px rgba(60, 64, 67, 0.3), 0px 1px 3px 1px rgba(60, 64, 67, 0.15);\n",
              "      fill: #174EA6;\n",
              "    }\n",
              "\n",
              "    [theme=dark] .colab-df-convert {\n",
              "      background-color: #3B4455;\n",
              "      fill: #D2E3FC;\n",
              "    }\n",
              "\n",
              "    [theme=dark] .colab-df-convert:hover {\n",
              "      background-color: #434B5C;\n",
              "      box-shadow: 0px 1px 3px 1px rgba(0, 0, 0, 0.15);\n",
              "      filter: drop-shadow(0px 1px 2px rgba(0, 0, 0, 0.3));\n",
              "      fill: #FFFFFF;\n",
              "    }\n",
              "  </style>\n",
              "\n",
              "      <script>\n",
              "        const buttonEl =\n",
              "          document.querySelector('#df-b07b9be5-1cfa-49e7-a987-950a58b58dc0 button.colab-df-convert');\n",
              "        buttonEl.style.display =\n",
              "          google.colab.kernel.accessAllowed ? 'block' : 'none';\n",
              "\n",
              "        async function convertToInteractive(key) {\n",
              "          const element = document.querySelector('#df-b07b9be5-1cfa-49e7-a987-950a58b58dc0');\n",
              "          const dataTable =\n",
              "            await google.colab.kernel.invokeFunction('convertToInteractive',\n",
              "                                                     [key], {});\n",
              "          if (!dataTable) return;\n",
              "\n",
              "          const docLinkHtml = 'Like what you see? Visit the ' +\n",
              "            '<a target=\"_blank\" href=https://colab.research.google.com/notebooks/data_table.ipynb>data table notebook</a>'\n",
              "            + ' to learn more about interactive tables.';\n",
              "          element.innerHTML = '';\n",
              "          dataTable['output_type'] = 'display_data';\n",
              "          await google.colab.output.renderOutput(dataTable, element);\n",
              "          const docLink = document.createElement('div');\n",
              "          docLink.innerHTML = docLinkHtml;\n",
              "          element.appendChild(docLink);\n",
              "        }\n",
              "      </script>\n",
              "    </div>\n",
              "  </div>\n"
            ]
          },
          "metadata": {},
          "execution_count": 139
        }
      ],
      "source": [
        "data.loc[0] = pd.Series({'color': 'Green', 'outline': 'Dashed', 'has_dot': 'No', 'shape': 'Triangle'})\n",
        "data.loc[1] = pd.Series({'color': 'Green', 'outline': 'Dashed', 'has_dot': 'Yes', 'shape': 'Triangle'})\n",
        "data.loc[2] = pd.Series({'color': 'Yellow', 'outline': 'Dashed', 'has_dot': 'No', 'shape': 'Square'})\n",
        "data.loc[3] = pd.Series({'color': 'Red', 'outline': 'Dashed', 'has_dot': 'No', 'shape': 'Square'})\n",
        "data.loc[4] = pd.Series({'color': 'Red', 'outline': 'Solid', 'has_dot': 'No', 'shape': 'Square'})\n",
        "data.loc[5] = pd.Series({'color': 'Red', 'outline': 'Solid', 'has_dot': 'Yes', 'shape': 'Triangle'})\n",
        "data.loc[6] = pd.Series({'color': 'Green', 'outline': 'Solid', 'has_dot': 'No', 'shape': 'Square'})\n",
        "data.loc[7] = pd.Series({'color': 'Green', 'outline': 'Dashed', 'has_dot': 'No', 'shape': 'Triangle'})\n",
        "data.loc[8] = pd.Series({'color': 'Yellow', 'outline': 'Solid', 'has_dot': 'Yes', 'shape': 'Square'})\n",
        "data.loc[9] = pd.Series({'color': 'Red', 'outline': 'Solid', 'has_dot': 'No', 'shape': 'Square'})\n",
        "data.loc[10] = pd.Series({'color': 'Green', 'outline': 'Solid', 'has_dot': 'Yes', 'shape': 'Square'})\n",
        "data.loc[11] = pd.Series({'color': 'Yellow', 'outline': 'Dashed', 'has_dot': 'Yes', 'shape': 'Square'})\n",
        "data.loc[12] = pd.Series({'color': 'Yellow', 'outline': 'Solid', 'has_dot': 'No', 'shape': 'Square'})\n",
        "data.loc[13] = pd.Series({'color': 'Red', 'outline': 'Dashed', 'has_dot': 'Yes', 'shape': 'Triangle'})\n",
        "\n",
        "data"
      ]
    },
    {
      "cell_type": "markdown",
      "metadata": {
        "id": "rSOxR4Zhuize"
      },
      "source": [
        "# **Functions**"
      ]
    },
    {
      "cell_type": "code",
      "execution_count": 140,
      "metadata": {
        "id": "xJ1ozKeZukp-"
      },
      "outputs": [],
      "source": [
        "def calSum(the_list):\n",
        "  sum = 0\n",
        "\n",
        "  for i in range(len(the_list)):\n",
        "    sum += the_list[i]\n",
        "\n",
        "  return sum"
      ]
    },
    {
      "cell_type": "code",
      "execution_count": 141,
      "metadata": {
        "id": "KZQoNYfRuqCO"
      },
      "outputs": [],
      "source": [
        "def calProbability(data_df, detail_df, feature):\n",
        "  pList = []\n",
        "  value_count = []\n",
        "  values = pd.unique(data_df[feature])\n",
        "\n",
        "  for i in range(len(values)):\n",
        "    value_count.append(data_df[feature].value_counts()[values[i]])\n",
        "\n",
        "  total = calSum(value_count)\n",
        "\n",
        "  for i in range(len(value_count)):\n",
        "    detail_df[feature + ' = ' + values[i]] = [value_count[i] / total]\n",
        "\n",
        "  return detail_df"
      ]
    },
    {
      "cell_type": "code",
      "execution_count": 142,
      "metadata": {
        "id": "2NKUaLWEuu_S"
      },
      "outputs": [],
      "source": [
        "def calProbabilityOfColumnsOf(data_df, detail_df):\n",
        "  for column in data_df.columns:\n",
        "    calProbability(data_df, detail_df, column)\n",
        "\n",
        "  return detail_df"
      ]
    },
    {
      "cell_type": "code",
      "execution_count": 143,
      "metadata": {
        "id": "V7EzvQLM0P9N"
      },
      "outputs": [],
      "source": [
        "def createDetails(data_df):\n",
        "  details = pd.DataFrame()\n",
        "  return calProbabilityOfColumnsOf(data_df, details)"
      ]
    },
    {
      "cell_type": "code",
      "execution_count": 144,
      "metadata": {
        "id": "XZk0kOENuzCC"
      },
      "outputs": [],
      "source": [
        "def calInfo(probabilityList):\n",
        "  entr = 0\n",
        "  for p in probabilityList:\n",
        "    entr += p * np.log2(p)\n",
        "\n",
        "  return entr * (-1)"
      ]
    },
    {
      "cell_type": "code",
      "execution_count": 145,
      "metadata": {
        "id": "GmtrHUkhu2JG"
      },
      "outputs": [],
      "source": [
        "def getValuesOfA(data_df, column, round):\n",
        "  return [data_df.at[round, col] for col in data_df.columns if column in col]"
      ]
    },
    {
      "cell_type": "code",
      "execution_count": 146,
      "metadata": {
        "id": "Y7UqaO_JvDGD"
      },
      "outputs": [],
      "source": [
        "def calInfoFor(data_df, column, round):\n",
        "  p = getValuesOfA(data_df, column, round)\n",
        "\n",
        "  return calInfo(p)"
      ]
    },
    {
      "cell_type": "code",
      "execution_count": 147,
      "metadata": {
        "id": "Q6yN_qS2vG6O"
      },
      "outputs": [],
      "source": [
        "def calI(data_df, column, round = 0):\n",
        "  info = []\n",
        "  for col in pd.unique(data_df[column]):\n",
        "    candidate = data_df[data_df[column] == col].reset_index(drop=True)\n",
        "\n",
        "    dataDetails = pd.DataFrame()\n",
        "    calProbabilityOfColumnsOf(candidate[[column, 'shape']], dataDetails)\n",
        "\n",
        "    info.append(calInfoFor(dataDetails, 'shape', round))\n",
        "\n",
        "  return info"
      ]
    },
    {
      "cell_type": "code",
      "execution_count": 148,
      "metadata": {
        "id": "KQxwvkxfvNrm"
      },
      "outputs": [],
      "source": [
        "def calIRes(probability, info):\n",
        "  sum = 0\n",
        "\n",
        "  for i in range(len(info)):\n",
        "    sum += float(probability[i]) * float(info[i])\n",
        "\n",
        "  return sum"
      ]
    },
    {
      "cell_type": "code",
      "execution_count": 149,
      "metadata": {
        "id": "PV8xxzA2vP0y"
      },
      "outputs": [],
      "source": [
        "def calIg(info, iRes):\n",
        "  return float(info - iRes)"
      ]
    },
    {
      "cell_type": "code",
      "execution_count": 150,
      "metadata": {
        "id": "dqiKIOo6vUBC"
      },
      "outputs": [],
      "source": [
        "def whatToChoose(data_df, details, target, info, round = 0):\n",
        "  array = []\n",
        "  for column in data_df.columns:\n",
        "    if column == target:\n",
        "      return max(array), data_df.columns[np.array(array).argmax()]\n",
        "    array.append(calIg(info, calIRes(getValuesOfA(details, column, round), calI(data_df, column, round))))\n",
        "\n",
        "  return max(array), data_df.columns[np.array(array).argmax()]"
      ]
    },
    {
      "cell_type": "code",
      "execution_count": 151,
      "metadata": {
        "id": "B7oOePfK3bPr"
      },
      "outputs": [],
      "source": [
        "def createSubDf(df, feature, value):\n",
        "  return df[df[feature] == value].reset_index(drop = True)"
      ]
    },
    {
      "cell_type": "code",
      "execution_count": 152,
      "metadata": {
        "id": "IPdHt_d_2yZ0"
      },
      "outputs": [],
      "source": [
        "def checkEqualSign(string):\n",
        "  if '=' in string:\n",
        "    return string.split(' = ')[0]\n",
        "  return string"
      ]
    },
    {
      "cell_type": "code",
      "execution_count": 153,
      "metadata": {
        "id": "x6-SMJBQ3Grt"
      },
      "outputs": [],
      "source": [
        "def removeFromColumns(columns, string = ' '):\n",
        "  if string in columns:\n",
        "    columns.remove(string)\n",
        "  return columns"
      ]
    },
    {
      "cell_type": "code",
      "execution_count": 154,
      "metadata": {
        "id": "iT_xXpwj1haK"
      },
      "outputs": [],
      "source": [
        "def checkEndOfFeaturs(detail_df, data_df, round):\n",
        "  columns = data_df.columns.tolist()\n",
        "\n",
        "  for tup in detail_df.at[round, 'choice']:\n",
        "    string_tup = str(tup)\n",
        "    string_tup = checkEqualSign(string_tup)\n",
        "    columns = removeFromColumns(columns, string_tup)\n",
        "\n",
        "  return len(columns) == 0"
      ]
    },
    {
      "cell_type": "code",
      "execution_count": 155,
      "metadata": {
        "id": "M7LfRzKW_iiM"
      },
      "outputs": [],
      "source": [
        "def checkEndCondOfBranch(data_df):\n",
        "  if len(pd.unique(data_df['shape'])) == 1:\n",
        "    return True\n",
        "  return False"
      ]
    },
    {
      "cell_type": "code",
      "execution_count": 156,
      "metadata": {
        "id": "QRBxMJt98FCF"
      },
      "outputs": [],
      "source": [
        "def setResult(data_df, detail_df, round):\n",
        "  if checkEndCondOfBranch(data_df) or checkEndOfFeaturs(detail_df, data_df, round):\n",
        "    next = detail_df.at[round, 'choice'][-1].split(' = ')[0]\n",
        "    detail_df.at[round, 'choice'][-1] = next + ' = ' + pd.unique(data_df[next])[0]\n",
        "    detail_df.at[round, 'result'] = pd.unique(data_df['shape'])[0]\n",
        "  else:\n",
        "    detail_df.at[round, 'result'] = 'no class'\n",
        "\n",
        "  detail_df.fillna(value = 'no class', inplace = True)\n",
        "\n",
        "  return detail_df"
      ]
    },
    {
      "cell_type": "code",
      "execution_count": 157,
      "metadata": {
        "id": "d3CYD2t8q8XE"
      },
      "outputs": [],
      "source": [
        "def setChoice(detail_df, index, choice):\n",
        "  detail_df.at[index, 'choice'] = choice\n",
        "  return detail_df"
      ]
    },
    {
      "cell_type": "code",
      "source": [
        "def updateDetails(detail_df, candidate_df, index = 0, choice = 0):\n",
        "  detail_df = pd.concat([detail_df, createDetails(candidate_df)], ignore_index = True)\n",
        "  if index == 0:\n",
        "    detail_df = setChoice(detail_df, len(detail_df) - 1, [data_details.at[index, 'choice'] + ' = ' + pd.unique(candidate_df[choice])[0]])\n",
        "  else:\n",
        "    detail_df = setChoice(detail_df, len(detail_df) - 1, copy.deepcopy(detail_df.at[index, 'choice']))\n",
        "    detail_df.at[len(detail_df) - 1, 'choice'].append(choice + ' = ')\n",
        "  detail_df = detail_df.loc[: 'choice'].fillna(0)\n",
        "\n",
        "  return detail_df"
      ],
      "metadata": {
        "id": "FxaIm44TESj1"
      },
      "execution_count": 185,
      "outputs": []
    },
    {
      "cell_type": "code",
      "source": [
        "def checkResult(detail_df):\n",
        "  return not detail_df.at[len(detail_df) - 1, 'result'] == 'no class'"
      ],
      "metadata": {
        "id": "lFaZTr6TGE9I"
      },
      "execution_count": 179,
      "outputs": []
    },
    {
      "cell_type": "code",
      "source": [
        "def createResult(data_df, detail_df, choice, index, val):\n",
        "  candidate = createSubDf(data_df, choice, val)\n",
        "  detail_df = updateDetails(detail_df, candidate, index, choice)\n",
        "  setResult(candidate, detail_df, len(detail_df) - 1)\n",
        "\n",
        "  return candidate, detail_df"
      ],
      "metadata": {
        "id": "usee7OAYHGRW"
      },
      "execution_count": 191,
      "outputs": []
    },
    {
      "cell_type": "code",
      "source": [
        "def calChoice(data_df, detail_df, target):\n",
        "  (ig_value, choice) = whatToChoose(data_df, detail_df, target, calInfoFor(detail_df, target, len(detail_df) - 1))\n",
        "  root_index = len(detail_df) - 1\n",
        "  possible_choice_values = pd.unique(data_df[choice])\n",
        "\n",
        "  if root_index == 0:\n",
        "    detail_df = setChoice(detail_df, root_index, [choice])\n",
        "\n",
        "  return possible_choice_values, choice, root_index"
      ],
      "metadata": {
        "id": "VL_E7CtvKid1"
      },
      "execution_count": 221,
      "outputs": []
    },
    {
      "cell_type": "code",
      "source": [
        "def goToTheLoop(data_df, detail_df, target):\n",
        "  possible_choice_values, choice, root_index = calChoice(data_df, detail_df, target)\n",
        "\n",
        "  for possible_value in possible_choice_values:\n",
        "    candidate, detail_df = createResult(data_df, detail_df, choice, root_index, possible_value)\n",
        "\n",
        "    if checkResult(detail_df): continue\n",
        "    detail_df = goToTheLoop(candidate, detail_df, target)\n",
        "\n",
        "  return detail_df"
      ],
      "metadata": {
        "id": "EQjZ0lSqMOnR"
      },
      "execution_count": 227,
      "outputs": []
    },
    {
      "cell_type": "markdown",
      "metadata": {
        "id": "S0Q3vOdepeKY"
      },
      "source": [
        "# **The code**"
      ]
    },
    {
      "cell_type": "code",
      "source": [
        "target = 'shape'\n",
        "\n",
        "goToTheLoop(data, createDetails(data), target)"
      ],
      "metadata": {
        "colab": {
          "base_uri": "https://localhost:8080/",
          "height": 300
        },
        "id": "5CXX-Vx5M3bY",
        "outputId": "a741559e-48a6-464d-e9c9-cb999b2cd6eb"
      },
      "execution_count": 281,
      "outputs": [
        {
          "output_type": "execute_result",
          "data": {
            "text/plain": [
              "   color = Green  color = Yellow  color = Red  outline = Dashed  \\\n",
              "0       0.357143        0.285714     0.357143          0.500000   \n",
              "1       1.000000        0.000000     0.000000          0.600000   \n",
              "2       1.000000        0.000000     0.000000          1.000000   \n",
              "3       1.000000        0.000000     0.000000          0.000000   \n",
              "4       0.000000        1.000000     0.000000          0.500000   \n",
              "5       0.000000        0.000000     1.000000          0.400000   \n",
              "6       0.000000        0.000000     1.000000          0.333333   \n",
              "7       0.000000        0.000000     1.000000          0.500000   \n",
              "\n",
              "   outline = Solid  has_dot = No  has_dot = Yes  shape = Triangle  \\\n",
              "0         0.500000      0.571429       0.428571          0.357143   \n",
              "1         0.400000      0.600000       0.400000          0.600000   \n",
              "2         0.000000      0.666667       0.333333          1.000000   \n",
              "3         1.000000      0.500000       0.500000          0.000000   \n",
              "4         0.500000      0.500000       0.500000          0.000000   \n",
              "5         0.600000      0.600000       0.400000          0.400000   \n",
              "6         0.666667      1.000000       0.000000          0.000000   \n",
              "7         0.500000      0.000000       1.000000          1.000000   \n",
              "\n",
              "   shape = Square                             choice    result  \n",
              "0        0.642857                              color  no class  \n",
              "1        0.400000                    [color = Green]  no class  \n",
              "2        0.000000  [color = Green, outline = Dashed]  Triangle  \n",
              "3        1.000000   [color = Green, outline = Solid]    Square  \n",
              "4        1.000000                   [color = Yellow]    Square  \n",
              "5        0.600000                      [color = Red]  no class  \n",
              "6        1.000000        [color = Red, has_dot = No]    Square  \n",
              "7        0.000000       [color = Red, has_dot = Yes]  Triangle  "
            ],
            "text/html": [
              "\n",
              "\n",
              "  <div id=\"df-02623aab-6647-40d9-b10b-1b5d404ad339\">\n",
              "    <div class=\"colab-df-container\">\n",
              "      <div>\n",
              "<style scoped>\n",
              "    .dataframe tbody tr th:only-of-type {\n",
              "        vertical-align: middle;\n",
              "    }\n",
              "\n",
              "    .dataframe tbody tr th {\n",
              "        vertical-align: top;\n",
              "    }\n",
              "\n",
              "    .dataframe thead th {\n",
              "        text-align: right;\n",
              "    }\n",
              "</style>\n",
              "<table border=\"1\" class=\"dataframe\">\n",
              "  <thead>\n",
              "    <tr style=\"text-align: right;\">\n",
              "      <th></th>\n",
              "      <th>color = Green</th>\n",
              "      <th>color = Yellow</th>\n",
              "      <th>color = Red</th>\n",
              "      <th>outline = Dashed</th>\n",
              "      <th>outline = Solid</th>\n",
              "      <th>has_dot = No</th>\n",
              "      <th>has_dot = Yes</th>\n",
              "      <th>shape = Triangle</th>\n",
              "      <th>shape = Square</th>\n",
              "      <th>choice</th>\n",
              "      <th>result</th>\n",
              "    </tr>\n",
              "  </thead>\n",
              "  <tbody>\n",
              "    <tr>\n",
              "      <th>0</th>\n",
              "      <td>0.357143</td>\n",
              "      <td>0.285714</td>\n",
              "      <td>0.357143</td>\n",
              "      <td>0.500000</td>\n",
              "      <td>0.500000</td>\n",
              "      <td>0.571429</td>\n",
              "      <td>0.428571</td>\n",
              "      <td>0.357143</td>\n",
              "      <td>0.642857</td>\n",
              "      <td>color</td>\n",
              "      <td>no class</td>\n",
              "    </tr>\n",
              "    <tr>\n",
              "      <th>1</th>\n",
              "      <td>1.000000</td>\n",
              "      <td>0.000000</td>\n",
              "      <td>0.000000</td>\n",
              "      <td>0.600000</td>\n",
              "      <td>0.400000</td>\n",
              "      <td>0.600000</td>\n",
              "      <td>0.400000</td>\n",
              "      <td>0.600000</td>\n",
              "      <td>0.400000</td>\n",
              "      <td>[color = Green]</td>\n",
              "      <td>no class</td>\n",
              "    </tr>\n",
              "    <tr>\n",
              "      <th>2</th>\n",
              "      <td>1.000000</td>\n",
              "      <td>0.000000</td>\n",
              "      <td>0.000000</td>\n",
              "      <td>1.000000</td>\n",
              "      <td>0.000000</td>\n",
              "      <td>0.666667</td>\n",
              "      <td>0.333333</td>\n",
              "      <td>1.000000</td>\n",
              "      <td>0.000000</td>\n",
              "      <td>[color = Green, outline = Dashed]</td>\n",
              "      <td>Triangle</td>\n",
              "    </tr>\n",
              "    <tr>\n",
              "      <th>3</th>\n",
              "      <td>1.000000</td>\n",
              "      <td>0.000000</td>\n",
              "      <td>0.000000</td>\n",
              "      <td>0.000000</td>\n",
              "      <td>1.000000</td>\n",
              "      <td>0.500000</td>\n",
              "      <td>0.500000</td>\n",
              "      <td>0.000000</td>\n",
              "      <td>1.000000</td>\n",
              "      <td>[color = Green, outline = Solid]</td>\n",
              "      <td>Square</td>\n",
              "    </tr>\n",
              "    <tr>\n",
              "      <th>4</th>\n",
              "      <td>0.000000</td>\n",
              "      <td>1.000000</td>\n",
              "      <td>0.000000</td>\n",
              "      <td>0.500000</td>\n",
              "      <td>0.500000</td>\n",
              "      <td>0.500000</td>\n",
              "      <td>0.500000</td>\n",
              "      <td>0.000000</td>\n",
              "      <td>1.000000</td>\n",
              "      <td>[color = Yellow]</td>\n",
              "      <td>Square</td>\n",
              "    </tr>\n",
              "    <tr>\n",
              "      <th>5</th>\n",
              "      <td>0.000000</td>\n",
              "      <td>0.000000</td>\n",
              "      <td>1.000000</td>\n",
              "      <td>0.400000</td>\n",
              "      <td>0.600000</td>\n",
              "      <td>0.600000</td>\n",
              "      <td>0.400000</td>\n",
              "      <td>0.400000</td>\n",
              "      <td>0.600000</td>\n",
              "      <td>[color = Red]</td>\n",
              "      <td>no class</td>\n",
              "    </tr>\n",
              "    <tr>\n",
              "      <th>6</th>\n",
              "      <td>0.000000</td>\n",
              "      <td>0.000000</td>\n",
              "      <td>1.000000</td>\n",
              "      <td>0.333333</td>\n",
              "      <td>0.666667</td>\n",
              "      <td>1.000000</td>\n",
              "      <td>0.000000</td>\n",
              "      <td>0.000000</td>\n",
              "      <td>1.000000</td>\n",
              "      <td>[color = Red, has_dot = No]</td>\n",
              "      <td>Square</td>\n",
              "    </tr>\n",
              "    <tr>\n",
              "      <th>7</th>\n",
              "      <td>0.000000</td>\n",
              "      <td>0.000000</td>\n",
              "      <td>1.000000</td>\n",
              "      <td>0.500000</td>\n",
              "      <td>0.500000</td>\n",
              "      <td>0.000000</td>\n",
              "      <td>1.000000</td>\n",
              "      <td>1.000000</td>\n",
              "      <td>0.000000</td>\n",
              "      <td>[color = Red, has_dot = Yes]</td>\n",
              "      <td>Triangle</td>\n",
              "    </tr>\n",
              "  </tbody>\n",
              "</table>\n",
              "</div>\n",
              "      <button class=\"colab-df-convert\" onclick=\"convertToInteractive('df-02623aab-6647-40d9-b10b-1b5d404ad339')\"\n",
              "              title=\"Convert this dataframe to an interactive table.\"\n",
              "              style=\"display:none;\">\n",
              "\n",
              "  <svg xmlns=\"http://www.w3.org/2000/svg\" height=\"24px\"viewBox=\"0 0 24 24\"\n",
              "       width=\"24px\">\n",
              "    <path d=\"M0 0h24v24H0V0z\" fill=\"none\"/>\n",
              "    <path d=\"M18.56 5.44l.94 2.06.94-2.06 2.06-.94-2.06-.94-.94-2.06-.94 2.06-2.06.94zm-11 1L8.5 8.5l.94-2.06 2.06-.94-2.06-.94L8.5 2.5l-.94 2.06-2.06.94zm10 10l.94 2.06.94-2.06 2.06-.94-2.06-.94-.94-2.06-.94 2.06-2.06.94z\"/><path d=\"M17.41 7.96l-1.37-1.37c-.4-.4-.92-.59-1.43-.59-.52 0-1.04.2-1.43.59L10.3 9.45l-7.72 7.72c-.78.78-.78 2.05 0 2.83L4 21.41c.39.39.9.59 1.41.59.51 0 1.02-.2 1.41-.59l7.78-7.78 2.81-2.81c.8-.78.8-2.07 0-2.86zM5.41 20L4 18.59l7.72-7.72 1.47 1.35L5.41 20z\"/>\n",
              "  </svg>\n",
              "      </button>\n",
              "\n",
              "\n",
              "\n",
              "    <div id=\"df-4c910791-96e0-46b9-a3d2-2b7fff5c961a\">\n",
              "      <button class=\"colab-df-quickchart\" onclick=\"quickchart('df-4c910791-96e0-46b9-a3d2-2b7fff5c961a')\"\n",
              "              title=\"Suggest charts.\"\n",
              "              style=\"display:none;\">\n",
              "\n",
              "<svg xmlns=\"http://www.w3.org/2000/svg\" height=\"24px\"viewBox=\"0 0 24 24\"\n",
              "     width=\"24px\">\n",
              "    <g>\n",
              "        <path d=\"M19 3H5c-1.1 0-2 .9-2 2v14c0 1.1.9 2 2 2h14c1.1 0 2-.9 2-2V5c0-1.1-.9-2-2-2zM9 17H7v-7h2v7zm4 0h-2V7h2v10zm4 0h-2v-4h2v4z\"/>\n",
              "    </g>\n",
              "</svg>\n",
              "      </button>\n",
              "    </div>\n",
              "\n",
              "<style>\n",
              "  .colab-df-quickchart {\n",
              "    background-color: #E8F0FE;\n",
              "    border: none;\n",
              "    border-radius: 50%;\n",
              "    cursor: pointer;\n",
              "    display: none;\n",
              "    fill: #1967D2;\n",
              "    height: 32px;\n",
              "    padding: 0 0 0 0;\n",
              "    width: 32px;\n",
              "  }\n",
              "\n",
              "  .colab-df-quickchart:hover {\n",
              "    background-color: #E2EBFA;\n",
              "    box-shadow: 0px 1px 2px rgba(60, 64, 67, 0.3), 0px 1px 3px 1px rgba(60, 64, 67, 0.15);\n",
              "    fill: #174EA6;\n",
              "  }\n",
              "\n",
              "  [theme=dark] .colab-df-quickchart {\n",
              "    background-color: #3B4455;\n",
              "    fill: #D2E3FC;\n",
              "  }\n",
              "\n",
              "  [theme=dark] .colab-df-quickchart:hover {\n",
              "    background-color: #434B5C;\n",
              "    box-shadow: 0px 1px 3px 1px rgba(0, 0, 0, 0.15);\n",
              "    filter: drop-shadow(0px 1px 2px rgba(0, 0, 0, 0.3));\n",
              "    fill: #FFFFFF;\n",
              "  }\n",
              "</style>\n",
              "\n",
              "    <script>\n",
              "      async function quickchart(key) {\n",
              "        const containerElement = document.querySelector('#' + key);\n",
              "        const charts = await google.colab.kernel.invokeFunction(\n",
              "            'suggestCharts', [key], {});\n",
              "      }\n",
              "    </script>\n",
              "\n",
              "      <script>\n",
              "\n",
              "function displayQuickchartButton(domScope) {\n",
              "  let quickchartButtonEl =\n",
              "    domScope.querySelector('#df-4c910791-96e0-46b9-a3d2-2b7fff5c961a button.colab-df-quickchart');\n",
              "  quickchartButtonEl.style.display =\n",
              "    google.colab.kernel.accessAllowed ? 'block' : 'none';\n",
              "}\n",
              "\n",
              "        displayQuickchartButton(document);\n",
              "      </script>\n",
              "      <style>\n",
              "    .colab-df-container {\n",
              "      display:flex;\n",
              "      flex-wrap:wrap;\n",
              "      gap: 12px;\n",
              "    }\n",
              "\n",
              "    .colab-df-convert {\n",
              "      background-color: #E8F0FE;\n",
              "      border: none;\n",
              "      border-radius: 50%;\n",
              "      cursor: pointer;\n",
              "      display: none;\n",
              "      fill: #1967D2;\n",
              "      height: 32px;\n",
              "      padding: 0 0 0 0;\n",
              "      width: 32px;\n",
              "    }\n",
              "\n",
              "    .colab-df-convert:hover {\n",
              "      background-color: #E2EBFA;\n",
              "      box-shadow: 0px 1px 2px rgba(60, 64, 67, 0.3), 0px 1px 3px 1px rgba(60, 64, 67, 0.15);\n",
              "      fill: #174EA6;\n",
              "    }\n",
              "\n",
              "    [theme=dark] .colab-df-convert {\n",
              "      background-color: #3B4455;\n",
              "      fill: #D2E3FC;\n",
              "    }\n",
              "\n",
              "    [theme=dark] .colab-df-convert:hover {\n",
              "      background-color: #434B5C;\n",
              "      box-shadow: 0px 1px 3px 1px rgba(0, 0, 0, 0.15);\n",
              "      filter: drop-shadow(0px 1px 2px rgba(0, 0, 0, 0.3));\n",
              "      fill: #FFFFFF;\n",
              "    }\n",
              "  </style>\n",
              "\n",
              "      <script>\n",
              "        const buttonEl =\n",
              "          document.querySelector('#df-02623aab-6647-40d9-b10b-1b5d404ad339 button.colab-df-convert');\n",
              "        buttonEl.style.display =\n",
              "          google.colab.kernel.accessAllowed ? 'block' : 'none';\n",
              "\n",
              "        async function convertToInteractive(key) {\n",
              "          const element = document.querySelector('#df-02623aab-6647-40d9-b10b-1b5d404ad339');\n",
              "          const dataTable =\n",
              "            await google.colab.kernel.invokeFunction('convertToInteractive',\n",
              "                                                     [key], {});\n",
              "          if (!dataTable) return;\n",
              "\n",
              "          const docLinkHtml = 'Like what you see? Visit the ' +\n",
              "            '<a target=\"_blank\" href=https://colab.research.google.com/notebooks/data_table.ipynb>data table notebook</a>'\n",
              "            + ' to learn more about interactive tables.';\n",
              "          element.innerHTML = '';\n",
              "          dataTable['output_type'] = 'display_data';\n",
              "          await google.colab.output.renderOutput(dataTable, element);\n",
              "          const docLink = document.createElement('div');\n",
              "          docLink.innerHTML = docLinkHtml;\n",
              "          element.appendChild(docLink);\n",
              "        }\n",
              "      </script>\n",
              "    </div>\n",
              "  </div>\n"
            ]
          },
          "metadata": {},
          "execution_count": 281
        }
      ]
    },
    {
      "cell_type": "markdown",
      "source": [
        "# **The tree**"
      ],
      "metadata": {
        "id": "J6gdG2vceBnd"
      }
    },
    {
      "cell_type": "code",
      "source": [
        "!pip install treelib"
      ],
      "metadata": {
        "colab": {
          "base_uri": "https://localhost:8080/"
        },
        "id": "HqAzNIIIVRKE",
        "outputId": "e100a9e9-f3c0-4f0e-ea19-0ff46fe260f2"
      },
      "execution_count": 244,
      "outputs": [
        {
          "output_type": "stream",
          "name": "stdout",
          "text": [
            "Collecting treelib\n",
            "  Downloading treelib-1.6.4-py3-none-any.whl (18 kB)\n",
            "Requirement already satisfied: six in /usr/local/lib/python3.10/dist-packages (from treelib) (1.16.0)\n",
            "Installing collected packages: treelib\n",
            "Successfully installed treelib-1.6.4\n"
          ]
        }
      ]
    },
    {
      "cell_type": "code",
      "source": [
        "from treelib import Node, Tree"
      ],
      "metadata": {
        "id": "_cCVUelhVThK"
      },
      "execution_count": 245,
      "outputs": []
    },
    {
      "cell_type": "code",
      "source": [
        "def cNode(tree, nodeName, node, parent):\n",
        "  if(parent != 'NoParent'):\n",
        "    tree.create_node(nodeName, node, parent)\n",
        "  else:\n",
        "    tree.create_node(nodeName, node)\n",
        "\n",
        "  return tree"
      ],
      "metadata": {
        "id": "ltQETAUoVWSB"
      },
      "execution_count": 246,
      "outputs": []
    },
    {
      "cell_type": "code",
      "source": [
        "data_details = goToTheLoop(data, createDetails(data), target)"
      ],
      "metadata": {
        "id": "pZmoXi5DVFPz"
      },
      "execution_count": 247,
      "outputs": []
    },
    {
      "cell_type": "code",
      "source": [
        "decisionTree = Tree()\n",
        "\n",
        "for choice in data_details.choice:\n",
        "  if type(choice) == str:\n",
        "    cNode(decisionTree, choice, 'root', 'NoParent')\n",
        "  else:\n",
        "    if len(choice) == 1:\n",
        "      cNode(decisionTree, choice[-1].split(' = ')[1], str(choice), 'root')\n",
        "    else:\n",
        "      cNode(decisionTree, choice[-1].split(' = ')[0] + ' ___ ' + choice[-1].split(' = ')[1], str(choice), str(choice[:-1]))\n",
        "\n",
        "decisionTree.show()"
      ],
      "metadata": {
        "colab": {
          "base_uri": "https://localhost:8080/"
        },
        "id": "mIpjRjPIVnUV",
        "outputId": "4e9930ab-31b7-4d22-8a39-eecca2446dfa"
      },
      "execution_count": 280,
      "outputs": [
        {
          "output_type": "stream",
          "name": "stdout",
          "text": [
            "color\n",
            "├── Green\n",
            "│   ├── outline ___ Dashed\n",
            "│   └── outline ___ Solid\n",
            "├── Red\n",
            "│   ├── has_dot ___ No\n",
            "│   └── has_dot ___ Yes\n",
            "└── Yellow\n",
            "\n"
          ]
        }
      ]
    }
  ],
  "metadata": {
    "colab": {
      "collapsed_sections": [
        "5_BLNhyCoS89",
        "bfYjPuMD5vCH"
      ],
      "provenance": []
    },
    "kernelspec": {
      "display_name": "Python 3",
      "name": "python3"
    },
    "language_info": {
      "name": "python"
    }
  },
  "nbformat": 4,
  "nbformat_minor": 0
}