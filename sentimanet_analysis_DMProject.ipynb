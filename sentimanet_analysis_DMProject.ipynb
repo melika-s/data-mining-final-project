{
  "cells": [
    {
      "cell_type": "markdown",
      "metadata": {
        "id": "qJ-nk53uamWw"
      },
      "source": [
        "# **Loading data**"
      ]
    },
    {
      "cell_type": "code",
      "execution_count": 1,
      "metadata": {
        "colab": {
          "base_uri": "https://localhost:8080/",
          "height": 106
        },
        "id": "s24l34HLICKB",
        "outputId": "1b76908f-d01e-4f56-d147-cefea33b5a6f"
      },
      "outputs": [
        {
          "output_type": "display_data",
          "data": {
            "text/plain": [
              "<IPython.core.display.HTML object>"
            ],
            "text/html": [
              "\n",
              "     <input type=\"file\" id=\"files-b16e71fe-9921-49a3-999d-5d10e60b200e\" name=\"files[]\" multiple disabled\n",
              "        style=\"border:none\" />\n",
              "     <output id=\"result-b16e71fe-9921-49a3-999d-5d10e60b200e\">\n",
              "      Upload widget is only available when the cell has been executed in the\n",
              "      current browser session. Please rerun this cell to enable.\n",
              "      </output>\n",
              "      <script>// Copyright 2017 Google LLC\n",
              "//\n",
              "// Licensed under the Apache License, Version 2.0 (the \"License\");\n",
              "// you may not use this file except in compliance with the License.\n",
              "// You may obtain a copy of the License at\n",
              "//\n",
              "//      http://www.apache.org/licenses/LICENSE-2.0\n",
              "//\n",
              "// Unless required by applicable law or agreed to in writing, software\n",
              "// distributed under the License is distributed on an \"AS IS\" BASIS,\n",
              "// WITHOUT WARRANTIES OR CONDITIONS OF ANY KIND, either express or implied.\n",
              "// See the License for the specific language governing permissions and\n",
              "// limitations under the License.\n",
              "\n",
              "/**\n",
              " * @fileoverview Helpers for google.colab Python module.\n",
              " */\n",
              "(function(scope) {\n",
              "function span(text, styleAttributes = {}) {\n",
              "  const element = document.createElement('span');\n",
              "  element.textContent = text;\n",
              "  for (const key of Object.keys(styleAttributes)) {\n",
              "    element.style[key] = styleAttributes[key];\n",
              "  }\n",
              "  return element;\n",
              "}\n",
              "\n",
              "// Max number of bytes which will be uploaded at a time.\n",
              "const MAX_PAYLOAD_SIZE = 100 * 1024;\n",
              "\n",
              "function _uploadFiles(inputId, outputId) {\n",
              "  const steps = uploadFilesStep(inputId, outputId);\n",
              "  const outputElement = document.getElementById(outputId);\n",
              "  // Cache steps on the outputElement to make it available for the next call\n",
              "  // to uploadFilesContinue from Python.\n",
              "  outputElement.steps = steps;\n",
              "\n",
              "  return _uploadFilesContinue(outputId);\n",
              "}\n",
              "\n",
              "// This is roughly an async generator (not supported in the browser yet),\n",
              "// where there are multiple asynchronous steps and the Python side is going\n",
              "// to poll for completion of each step.\n",
              "// This uses a Promise to block the python side on completion of each step,\n",
              "// then passes the result of the previous step as the input to the next step.\n",
              "function _uploadFilesContinue(outputId) {\n",
              "  const outputElement = document.getElementById(outputId);\n",
              "  const steps = outputElement.steps;\n",
              "\n",
              "  const next = steps.next(outputElement.lastPromiseValue);\n",
              "  return Promise.resolve(next.value.promise).then((value) => {\n",
              "    // Cache the last promise value to make it available to the next\n",
              "    // step of the generator.\n",
              "    outputElement.lastPromiseValue = value;\n",
              "    return next.value.response;\n",
              "  });\n",
              "}\n",
              "\n",
              "/**\n",
              " * Generator function which is called between each async step of the upload\n",
              " * process.\n",
              " * @param {string} inputId Element ID of the input file picker element.\n",
              " * @param {string} outputId Element ID of the output display.\n",
              " * @return {!Iterable<!Object>} Iterable of next steps.\n",
              " */\n",
              "function* uploadFilesStep(inputId, outputId) {\n",
              "  const inputElement = document.getElementById(inputId);\n",
              "  inputElement.disabled = false;\n",
              "\n",
              "  const outputElement = document.getElementById(outputId);\n",
              "  outputElement.innerHTML = '';\n",
              "\n",
              "  const pickedPromise = new Promise((resolve) => {\n",
              "    inputElement.addEventListener('change', (e) => {\n",
              "      resolve(e.target.files);\n",
              "    });\n",
              "  });\n",
              "\n",
              "  const cancel = document.createElement('button');\n",
              "  inputElement.parentElement.appendChild(cancel);\n",
              "  cancel.textContent = 'Cancel upload';\n",
              "  const cancelPromise = new Promise((resolve) => {\n",
              "    cancel.onclick = () => {\n",
              "      resolve(null);\n",
              "    };\n",
              "  });\n",
              "\n",
              "  // Wait for the user to pick the files.\n",
              "  const files = yield {\n",
              "    promise: Promise.race([pickedPromise, cancelPromise]),\n",
              "    response: {\n",
              "      action: 'starting',\n",
              "    }\n",
              "  };\n",
              "\n",
              "  cancel.remove();\n",
              "\n",
              "  // Disable the input element since further picks are not allowed.\n",
              "  inputElement.disabled = true;\n",
              "\n",
              "  if (!files) {\n",
              "    return {\n",
              "      response: {\n",
              "        action: 'complete',\n",
              "      }\n",
              "    };\n",
              "  }\n",
              "\n",
              "  for (const file of files) {\n",
              "    const li = document.createElement('li');\n",
              "    li.append(span(file.name, {fontWeight: 'bold'}));\n",
              "    li.append(span(\n",
              "        `(${file.type || 'n/a'}) - ${file.size} bytes, ` +\n",
              "        `last modified: ${\n",
              "            file.lastModifiedDate ? file.lastModifiedDate.toLocaleDateString() :\n",
              "                                    'n/a'} - `));\n",
              "    const percent = span('0% done');\n",
              "    li.appendChild(percent);\n",
              "\n",
              "    outputElement.appendChild(li);\n",
              "\n",
              "    const fileDataPromise = new Promise((resolve) => {\n",
              "      const reader = new FileReader();\n",
              "      reader.onload = (e) => {\n",
              "        resolve(e.target.result);\n",
              "      };\n",
              "      reader.readAsArrayBuffer(file);\n",
              "    });\n",
              "    // Wait for the data to be ready.\n",
              "    let fileData = yield {\n",
              "      promise: fileDataPromise,\n",
              "      response: {\n",
              "        action: 'continue',\n",
              "      }\n",
              "    };\n",
              "\n",
              "    // Use a chunked sending to avoid message size limits. See b/62115660.\n",
              "    let position = 0;\n",
              "    do {\n",
              "      const length = Math.min(fileData.byteLength - position, MAX_PAYLOAD_SIZE);\n",
              "      const chunk = new Uint8Array(fileData, position, length);\n",
              "      position += length;\n",
              "\n",
              "      const base64 = btoa(String.fromCharCode.apply(null, chunk));\n",
              "      yield {\n",
              "        response: {\n",
              "          action: 'append',\n",
              "          file: file.name,\n",
              "          data: base64,\n",
              "        },\n",
              "      };\n",
              "\n",
              "      let percentDone = fileData.byteLength === 0 ?\n",
              "          100 :\n",
              "          Math.round((position / fileData.byteLength) * 100);\n",
              "      percent.textContent = `${percentDone}% done`;\n",
              "\n",
              "    } while (position < fileData.byteLength);\n",
              "  }\n",
              "\n",
              "  // All done.\n",
              "  yield {\n",
              "    response: {\n",
              "      action: 'complete',\n",
              "    }\n",
              "  };\n",
              "}\n",
              "\n",
              "scope.google = scope.google || {};\n",
              "scope.google.colab = scope.google.colab || {};\n",
              "scope.google.colab._files = {\n",
              "  _uploadFiles,\n",
              "  _uploadFilesContinue,\n",
              "};\n",
              "})(self);\n",
              "</script> "
            ]
          },
          "metadata": {}
        },
        {
          "output_type": "stream",
          "name": "stdout",
          "text": [
            "Saving comment.xlsx to comment.xlsx\n",
            "Saving stopWords.txt to stopWords.txt\n"
          ]
        }
      ],
      "source": [
        "from google.colab import files\n",
        "\n",
        "uploadedFiles = files.upload()"
      ]
    },
    {
      "cell_type": "code",
      "execution_count": 2,
      "metadata": {
        "id": "Mt2i9sS6c4YT"
      },
      "outputs": [],
      "source": [
        "from io import StringIO\n",
        "import pandas as pd"
      ]
    },
    {
      "cell_type": "code",
      "execution_count": 3,
      "metadata": {
        "id": "SCE6SqELtyUE"
      },
      "outputs": [],
      "source": [
        "def decode(fileName):\n",
        "  return StringIO(uploadedFiles[fileName + '.txt'].decode(\"utf-8\"))"
      ]
    },
    {
      "cell_type": "code",
      "execution_count": 4,
      "metadata": {
        "id": "1X32digkcpgq"
      },
      "outputs": [],
      "source": [
        "def read(fileName, fileType):\n",
        "  if fileType == 'excel':\n",
        "    return pd.read_excel(uploadedFiles[fileName + '.xlsx'], header = 0)\n",
        "  return decode(fileName).read()"
      ]
    },
    {
      "cell_type": "code",
      "execution_count": 5,
      "metadata": {
        "id": "8TOmx_TXcqHY"
      },
      "outputs": [],
      "source": [
        "def get_input(name):\n",
        "  return input(\"please enter \" + name + \" file name:  \")"
      ]
    },
    {
      "cell_type": "code",
      "execution_count": 6,
      "metadata": {
        "id": "SLgEvN3ScsJK",
        "colab": {
          "base_uri": "https://localhost:8080/"
        },
        "outputId": "65dd8b8b-8d28-4d2f-a287-2cf0e11bdfc3"
      },
      "outputs": [
        {
          "name": "stdout",
          "output_type": "stream",
          "text": [
            "please enter comment file name:  comment\n"
          ]
        }
      ],
      "source": [
        "comments = read(get_input('comment'), 'excel')"
      ]
    },
    {
      "cell_type": "code",
      "execution_count": 7,
      "metadata": {
        "id": "GoDsma_HGmWX",
        "colab": {
          "base_uri": "https://localhost:8080/"
        },
        "outputId": "1f21fcd8-4890-40a7-b664-4284fc166279"
      },
      "outputs": [
        {
          "name": "stdout",
          "output_type": "stream",
          "text": [
            "please enter stop word file name:  stopWords\n"
          ]
        }
      ],
      "source": [
        "stopwords = read(get_input('stop word'), 'text')"
      ]
    },
    {
      "cell_type": "markdown",
      "metadata": {
        "id": "DFiiMMmciBec"
      },
      "source": [
        "# **after loaded**"
      ]
    },
    {
      "cell_type": "code",
      "execution_count": 1,
      "metadata": {
        "id": "G-LNFbHf0yAz"
      },
      "outputs": [],
      "source": [
        "import pandas as pd"
      ]
    },
    {
      "cell_type": "code",
      "execution_count": 2,
      "metadata": {
        "id": "xOBLTI1JiE3Q"
      },
      "outputs": [],
      "source": [
        "with open('stopWords.txt') as f:\n",
        "    stopwords = f.read()"
      ]
    },
    {
      "cell_type": "code",
      "execution_count": 3,
      "metadata": {
        "id": "dYg-fmqPiQ9u"
      },
      "outputs": [],
      "source": [
        "comments = pd.read_excel('comment.xlsx', header = 0)"
      ]
    },
    {
      "cell_type": "markdown",
      "source": [
        "# **Exploring data**"
      ],
      "metadata": {
        "id": "1IEi-FjDaW1A"
      }
    },
    {
      "cell_type": "code",
      "source": [
        "import seaborn as sns"
      ],
      "metadata": {
        "id": "UK6L6CMRoVyL"
      },
      "execution_count": 4,
      "outputs": []
    },
    {
      "cell_type": "code",
      "execution_count": 5,
      "metadata": {
        "colab": {
          "base_uri": "https://localhost:8080/",
          "height": 206
        },
        "id": "l0hke7bWfGn-",
        "outputId": "d1a13fd8-cef1-4f1b-b2c7-e439a6070e84"
      },
      "outputs": [
        {
          "output_type": "execute_result",
          "data": {
            "text/plain": [
              "   product_id         confirmed_at  \\\n",
              "0       90213  2018-08-23 11:05:47   \n",
              "1       56871  2018-08-23 10:21:53   \n",
              "2       49738  2018-10-13 11:13:39   \n",
              "3      134367  2018-10-17 11:27:57   \n",
              "4      151402  2018-08-23 10:28:47   \n",
              "\n",
              "                                             comment  \n",
              "0  سلام، قبل اینکه نظرم رو بگم میخواستم به یک موض...  \n",
              "1  بوی تند ولی خوشبو داره.ماندگاریش خوبه و هر چقد...  \n",
              "2  متاسفانه عمر مفید این ماشین کم هست و بعد از دو...  \n",
              "3  افا از وقتی من اینو واسه پسرم خریدم همه بچه ها...  \n",
              "4  این تیغ محصول کشور آمریکا هست ( در عکس محصول م...  "
            ],
            "text/html": [
              "\n",
              "\n",
              "  <div id=\"df-8c252664-8436-4aa5-af03-56bc50ec93d6\">\n",
              "    <div class=\"colab-df-container\">\n",
              "      <div>\n",
              "<style scoped>\n",
              "    .dataframe tbody tr th:only-of-type {\n",
              "        vertical-align: middle;\n",
              "    }\n",
              "\n",
              "    .dataframe tbody tr th {\n",
              "        vertical-align: top;\n",
              "    }\n",
              "\n",
              "    .dataframe thead th {\n",
              "        text-align: right;\n",
              "    }\n",
              "</style>\n",
              "<table border=\"1\" class=\"dataframe\">\n",
              "  <thead>\n",
              "    <tr style=\"text-align: right;\">\n",
              "      <th></th>\n",
              "      <th>product_id</th>\n",
              "      <th>confirmed_at</th>\n",
              "      <th>comment</th>\n",
              "    </tr>\n",
              "  </thead>\n",
              "  <tbody>\n",
              "    <tr>\n",
              "      <th>0</th>\n",
              "      <td>90213</td>\n",
              "      <td>2018-08-23 11:05:47</td>\n",
              "      <td>سلام، قبل اینکه نظرم رو بگم میخواستم به یک موض...</td>\n",
              "    </tr>\n",
              "    <tr>\n",
              "      <th>1</th>\n",
              "      <td>56871</td>\n",
              "      <td>2018-08-23 10:21:53</td>\n",
              "      <td>بوی تند ولی خوشبو داره.ماندگاریش خوبه و هر چقد...</td>\n",
              "    </tr>\n",
              "    <tr>\n",
              "      <th>2</th>\n",
              "      <td>49738</td>\n",
              "      <td>2018-10-13 11:13:39</td>\n",
              "      <td>متاسفانه عمر مفید این ماشین کم هست و بعد از دو...</td>\n",
              "    </tr>\n",
              "    <tr>\n",
              "      <th>3</th>\n",
              "      <td>134367</td>\n",
              "      <td>2018-10-17 11:27:57</td>\n",
              "      <td>افا از وقتی من اینو واسه پسرم خریدم همه بچه ها...</td>\n",
              "    </tr>\n",
              "    <tr>\n",
              "      <th>4</th>\n",
              "      <td>151402</td>\n",
              "      <td>2018-08-23 10:28:47</td>\n",
              "      <td>این تیغ محصول کشور آمریکا هست ( در عکس محصول م...</td>\n",
              "    </tr>\n",
              "  </tbody>\n",
              "</table>\n",
              "</div>\n",
              "      <button class=\"colab-df-convert\" onclick=\"convertToInteractive('df-8c252664-8436-4aa5-af03-56bc50ec93d6')\"\n",
              "              title=\"Convert this dataframe to an interactive table.\"\n",
              "              style=\"display:none;\">\n",
              "\n",
              "  <svg xmlns=\"http://www.w3.org/2000/svg\" height=\"24px\"viewBox=\"0 0 24 24\"\n",
              "       width=\"24px\">\n",
              "    <path d=\"M0 0h24v24H0V0z\" fill=\"none\"/>\n",
              "    <path d=\"M18.56 5.44l.94 2.06.94-2.06 2.06-.94-2.06-.94-.94-2.06-.94 2.06-2.06.94zm-11 1L8.5 8.5l.94-2.06 2.06-.94-2.06-.94L8.5 2.5l-.94 2.06-2.06.94zm10 10l.94 2.06.94-2.06 2.06-.94-2.06-.94-.94-2.06-.94 2.06-2.06.94z\"/><path d=\"M17.41 7.96l-1.37-1.37c-.4-.4-.92-.59-1.43-.59-.52 0-1.04.2-1.43.59L10.3 9.45l-7.72 7.72c-.78.78-.78 2.05 0 2.83L4 21.41c.39.39.9.59 1.41.59.51 0 1.02-.2 1.41-.59l7.78-7.78 2.81-2.81c.8-.78.8-2.07 0-2.86zM5.41 20L4 18.59l7.72-7.72 1.47 1.35L5.41 20z\"/>\n",
              "  </svg>\n",
              "      </button>\n",
              "\n",
              "\n",
              "\n",
              "    <div id=\"df-732bb86f-5e02-4533-89fd-b1b0ac2a3f64\">\n",
              "      <button class=\"colab-df-quickchart\" onclick=\"quickchart('df-732bb86f-5e02-4533-89fd-b1b0ac2a3f64')\"\n",
              "              title=\"Suggest charts.\"\n",
              "              style=\"display:none;\">\n",
              "\n",
              "<svg xmlns=\"http://www.w3.org/2000/svg\" height=\"24px\"viewBox=\"0 0 24 24\"\n",
              "     width=\"24px\">\n",
              "    <g>\n",
              "        <path d=\"M19 3H5c-1.1 0-2 .9-2 2v14c0 1.1.9 2 2 2h14c1.1 0 2-.9 2-2V5c0-1.1-.9-2-2-2zM9 17H7v-7h2v7zm4 0h-2V7h2v10zm4 0h-2v-4h2v4z\"/>\n",
              "    </g>\n",
              "</svg>\n",
              "      </button>\n",
              "    </div>\n",
              "\n",
              "<style>\n",
              "  .colab-df-quickchart {\n",
              "    background-color: #E8F0FE;\n",
              "    border: none;\n",
              "    border-radius: 50%;\n",
              "    cursor: pointer;\n",
              "    display: none;\n",
              "    fill: #1967D2;\n",
              "    height: 32px;\n",
              "    padding: 0 0 0 0;\n",
              "    width: 32px;\n",
              "  }\n",
              "\n",
              "  .colab-df-quickchart:hover {\n",
              "    background-color: #E2EBFA;\n",
              "    box-shadow: 0px 1px 2px rgba(60, 64, 67, 0.3), 0px 1px 3px 1px rgba(60, 64, 67, 0.15);\n",
              "    fill: #174EA6;\n",
              "  }\n",
              "\n",
              "  [theme=dark] .colab-df-quickchart {\n",
              "    background-color: #3B4455;\n",
              "    fill: #D2E3FC;\n",
              "  }\n",
              "\n",
              "  [theme=dark] .colab-df-quickchart:hover {\n",
              "    background-color: #434B5C;\n",
              "    box-shadow: 0px 1px 3px 1px rgba(0, 0, 0, 0.15);\n",
              "    filter: drop-shadow(0px 1px 2px rgba(0, 0, 0, 0.3));\n",
              "    fill: #FFFFFF;\n",
              "  }\n",
              "</style>\n",
              "\n",
              "    <script>\n",
              "      async function quickchart(key) {\n",
              "        const containerElement = document.querySelector('#' + key);\n",
              "        const charts = await google.colab.kernel.invokeFunction(\n",
              "            'suggestCharts', [key], {});\n",
              "      }\n",
              "    </script>\n",
              "\n",
              "      <script>\n",
              "\n",
              "function displayQuickchartButton(domScope) {\n",
              "  let quickchartButtonEl =\n",
              "    domScope.querySelector('#df-732bb86f-5e02-4533-89fd-b1b0ac2a3f64 button.colab-df-quickchart');\n",
              "  quickchartButtonEl.style.display =\n",
              "    google.colab.kernel.accessAllowed ? 'block' : 'none';\n",
              "}\n",
              "\n",
              "        displayQuickchartButton(document);\n",
              "      </script>\n",
              "      <style>\n",
              "    .colab-df-container {\n",
              "      display:flex;\n",
              "      flex-wrap:wrap;\n",
              "      gap: 12px;\n",
              "    }\n",
              "\n",
              "    .colab-df-convert {\n",
              "      background-color: #E8F0FE;\n",
              "      border: none;\n",
              "      border-radius: 50%;\n",
              "      cursor: pointer;\n",
              "      display: none;\n",
              "      fill: #1967D2;\n",
              "      height: 32px;\n",
              "      padding: 0 0 0 0;\n",
              "      width: 32px;\n",
              "    }\n",
              "\n",
              "    .colab-df-convert:hover {\n",
              "      background-color: #E2EBFA;\n",
              "      box-shadow: 0px 1px 2px rgba(60, 64, 67, 0.3), 0px 1px 3px 1px rgba(60, 64, 67, 0.15);\n",
              "      fill: #174EA6;\n",
              "    }\n",
              "\n",
              "    [theme=dark] .colab-df-convert {\n",
              "      background-color: #3B4455;\n",
              "      fill: #D2E3FC;\n",
              "    }\n",
              "\n",
              "    [theme=dark] .colab-df-convert:hover {\n",
              "      background-color: #434B5C;\n",
              "      box-shadow: 0px 1px 3px 1px rgba(0, 0, 0, 0.15);\n",
              "      filter: drop-shadow(0px 1px 2px rgba(0, 0, 0, 0.3));\n",
              "      fill: #FFFFFF;\n",
              "    }\n",
              "  </style>\n",
              "\n",
              "      <script>\n",
              "        const buttonEl =\n",
              "          document.querySelector('#df-8c252664-8436-4aa5-af03-56bc50ec93d6 button.colab-df-convert');\n",
              "        buttonEl.style.display =\n",
              "          google.colab.kernel.accessAllowed ? 'block' : 'none';\n",
              "\n",
              "        async function convertToInteractive(key) {\n",
              "          const element = document.querySelector('#df-8c252664-8436-4aa5-af03-56bc50ec93d6');\n",
              "          const dataTable =\n",
              "            await google.colab.kernel.invokeFunction('convertToInteractive',\n",
              "                                                     [key], {});\n",
              "          if (!dataTable) return;\n",
              "\n",
              "          const docLinkHtml = 'Like what you see? Visit the ' +\n",
              "            '<a target=\"_blank\" href=https://colab.research.google.com/notebooks/data_table.ipynb>data table notebook</a>'\n",
              "            + ' to learn more about interactive tables.';\n",
              "          element.innerHTML = '';\n",
              "          dataTable['output_type'] = 'display_data';\n",
              "          await google.colab.output.renderOutput(dataTable, element);\n",
              "          const docLink = document.createElement('div');\n",
              "          docLink.innerHTML = docLinkHtml;\n",
              "          element.appendChild(docLink);\n",
              "        }\n",
              "      </script>\n",
              "    </div>\n",
              "  </div>\n"
            ]
          },
          "metadata": {},
          "execution_count": 5
        }
      ],
      "source": [
        "comments.head()"
      ]
    },
    {
      "cell_type": "markdown",
      "source": [
        "**pie chart of product id**"
      ],
      "metadata": {
        "id": "w0LVPr3PlEV8"
      }
    },
    {
      "cell_type": "code",
      "source": [
        "comments.product_id.value_counts().plot(kind='pie', autopct='%1.0f%%')"
      ],
      "metadata": {
        "colab": {
          "base_uri": "https://localhost:8080/",
          "height": 423
        },
        "id": "TAaXtVyYfDYG",
        "outputId": "cd7a5969-38bb-4391-b8b8-df6853d97e35"
      },
      "execution_count": 6,
      "outputs": [
        {
          "output_type": "execute_result",
          "data": {
            "text/plain": [
              "<Axes: ylabel='product_id'>"
            ]
          },
          "metadata": {},
          "execution_count": 6
        },
        {
          "output_type": "display_data",
          "data": {
            "text/plain": [
              "<Figure size 640x480 with 1 Axes>"
            ],
            "image/png": "[encoded data removed]"
          },
          "metadata": {}
        }
      ]
    },
    {
      "cell_type": "code",
      "source": [
        "def add_comments_count(ids, comments):\n",
        "  comments_on_a_product = comments[ids.isin(ids[ids.duplicated()])].sort_values('product_id')\n",
        "\n",
        "  comments_count  = pd.Series(comments_on_a_product['product_id'].value_counts(), name='comment_count')\n",
        "\n",
        "  return comments_on_a_product.merge(comments_count, left_index=True, right_index=True).sort_values('product_id').reset_index(drop=True)"
      ],
      "metadata": {
        "id": "kS4Rb-UEnYVX"
      },
      "execution_count": 7,
      "outputs": []
    },
    {
      "cell_type": "code",
      "source": [
        "ids = comments[\"product_id\"]\n",
        "\n",
        "products_comments = add_comments_count(ids, comments)\n",
        "\n",
        "products_comments"
      ],
      "metadata": {
        "colab": {
          "base_uri": "https://localhost:8080/",
          "height": 424
        },
        "id": "aa4H1P3PoBX9",
        "outputId": "8df76d82-b590-49b1-b314-1d36694c3c67"
      },
      "execution_count": 8,
      "outputs": [
        {
          "output_type": "execute_result",
          "data": {
            "text/plain": [
              "      product_id         confirmed_at  \\\n",
              "0            300  2018-05-26 09:53:29   \n",
              "1           5289  2018-04-08 12:14:35   \n",
              "2           5398  2018-05-25 15:26:20   \n",
              "3           7793  2018-05-26 15:15:46   \n",
              "4           7793  2018-04-17 15:50:42   \n",
              "...          ...                  ...   \n",
              "1229      658860  2018-07-03 09:22:48   \n",
              "1230      661003  2018-06-30 13:33:20   \n",
              "1231      666198  2018-07-03 09:52:59   \n",
              "1232      667675  2018-07-05 11:33:57   \n",
              "1233      678027  2018-07-07 10:19:04   \n",
              "\n",
              "                                                comment  comment_count  \n",
              "0       واقعا عالی من دو سال تمام ازش استفاده کردم عالی              2  \n",
              "1     مناسفانه در طول روز مدام اینترنت قطع میشه و چر...              3  \n",
              "2     دوستان من این موس خریدم اما وقتی باهاش مواجه ش...              2  \n",
              "3     بعد از یک هفته یه لنگه ش از کار افتاد \\nبدنه و...              3  \n",
              "4     این هنذفری فابریک گوشیم j5 بود واقعا خیلی بده ...              2  \n",
              "...                                                 ...            ...  \n",
              "1229  در کل بد نیست اما گرونه مگه تو شگفت انگیز.\\nمن...              5  \n",
              "1230  با سلام و خسته نباشید\\nمن این مچ بند رو خریدار...             27  \n",
              "1231      کلا از بعضی از نظر ها خوب و بعضی ها متوسط است              4  \n",
              "1232  طعم بی نظیر شربت .. حتی بهتر از سن ایچ\\nطعم ها...              4  \n",
              "1233  با سلام و خسته نباشید \\nمن این کاور رو خریداری...              3  \n",
              "\n",
              "[1234 rows x 4 columns]"
            ],
            "text/html": [
              "\n",
              "\n",
              "  <div id=\"df-87e3aad1-c9c7-4807-8e5f-8728112d7e97\">\n",
              "    <div class=\"colab-df-container\">\n",
              "      <div>\n",
              "<style scoped>\n",
              "    .dataframe tbody tr th:only-of-type {\n",
              "        vertical-align: middle;\n",
              "    }\n",
              "\n",
              "    .dataframe tbody tr th {\n",
              "        vertical-align: top;\n",
              "    }\n",
              "\n",
              "    .dataframe thead th {\n",
              "        text-align: right;\n",
              "    }\n",
              "</style>\n",
              "<table border=\"1\" class=\"dataframe\">\n",
              "  <thead>\n",
              "    <tr style=\"text-align: right;\">\n",
              "      <th></th>\n",
              "      <th>product_id</th>\n",
              "      <th>confirmed_at</th>\n",
              "      <th>comment</th>\n",
              "      <th>comment_count</th>\n",
              "    </tr>\n",
              "  </thead>\n",
              "  <tbody>\n",
              "    <tr>\n",
              "      <th>0</th>\n",
              "      <td>300</td>\n",
              "      <td>2018-05-26 09:53:29</td>\n",
              "      <td>واقعا عالی من دو سال تمام ازش استفاده کردم عالی</td>\n",
              "      <td>2</td>\n",
              "    </tr>\n",
              "    <tr>\n",
              "      <th>1</th>\n",
              "      <td>5289</td>\n",
              "      <td>2018-04-08 12:14:35</td>\n",
              "      <td>مناسفانه در طول روز مدام اینترنت قطع میشه و چر...</td>\n",
              "      <td>3</td>\n",
              "    </tr>\n",
              "    <tr>\n",
              "      <th>2</th>\n",
              "      <td>5398</td>\n",
              "      <td>2018-05-25 15:26:20</td>\n",
              "      <td>دوستان من این موس خریدم اما وقتی باهاش مواجه ش...</td>\n",
              "      <td>2</td>\n",
              "    </tr>\n",
              "    <tr>\n",
              "      <th>3</th>\n",
              "      <td>7793</td>\n",
              "      <td>2018-05-26 15:15:46</td>\n",
              "      <td>بعد از یک هفته یه لنگه ش از کار افتاد \\nبدنه و...</td>\n",
              "      <td>3</td>\n",
              "    </tr>\n",
              "    <tr>\n",
              "      <th>4</th>\n",
              "      <td>7793</td>\n",
              "      <td>2018-04-17 15:50:42</td>\n",
              "      <td>این هنذفری فابریک گوشیم j5 بود واقعا خیلی بده ...</td>\n",
              "      <td>2</td>\n",
              "    </tr>\n",
              "    <tr>\n",
              "      <th>...</th>\n",
              "      <td>...</td>\n",
              "      <td>...</td>\n",
              "      <td>...</td>\n",
              "      <td>...</td>\n",
              "    </tr>\n",
              "    <tr>\n",
              "      <th>1229</th>\n",
              "      <td>658860</td>\n",
              "      <td>2018-07-03 09:22:48</td>\n",
              "      <td>در کل بد نیست اما گرونه مگه تو شگفت انگیز.\\nمن...</td>\n",
              "      <td>5</td>\n",
              "    </tr>\n",
              "    <tr>\n",
              "      <th>1230</th>\n",
              "      <td>661003</td>\n",
              "      <td>2018-06-30 13:33:20</td>\n",
              "      <td>با سلام و خسته نباشید\\nمن این مچ بند رو خریدار...</td>\n",
              "      <td>27</td>\n",
              "    </tr>\n",
              "    <tr>\n",
              "      <th>1231</th>\n",
              "      <td>666198</td>\n",
              "      <td>2018-07-03 09:52:59</td>\n",
              "      <td>کلا از بعضی از نظر ها خوب و بعضی ها متوسط است</td>\n",
              "      <td>4</td>\n",
              "    </tr>\n",
              "    <tr>\n",
              "      <th>1232</th>\n",
              "      <td>667675</td>\n",
              "      <td>2018-07-05 11:33:57</td>\n",
              "      <td>طعم بی نظیر شربت .. حتی بهتر از سن ایچ\\nطعم ها...</td>\n",
              "      <td>4</td>\n",
              "    </tr>\n",
              "    <tr>\n",
              "      <th>1233</th>\n",
              "      <td>678027</td>\n",
              "      <td>2018-07-07 10:19:04</td>\n",
              "      <td>با سلام و خسته نباشید \\nمن این کاور رو خریداری...</td>\n",
              "      <td>3</td>\n",
              "    </tr>\n",
              "  </tbody>\n",
              "</table>\n",
              "<p>1234 rows × 4 columns</p>\n",
              "</div>\n",
              "      <button class=\"colab-df-convert\" onclick=\"convertToInteractive('df-87e3aad1-c9c7-4807-8e5f-8728112d7e97')\"\n",
              "              title=\"Convert this dataframe to an interactive table.\"\n",
              "              style=\"display:none;\">\n",
              "\n",
              "  <svg xmlns=\"http://www.w3.org/2000/svg\" height=\"24px\"viewBox=\"0 0 24 24\"\n",
              "       width=\"24px\">\n",
              "    <path d=\"M0 0h24v24H0V0z\" fill=\"none\"/>\n",
              "    <path d=\"M18.56 5.44l.94 2.06.94-2.06 2.06-.94-2.06-.94-.94-2.06-.94 2.06-2.06.94zm-11 1L8.5 8.5l.94-2.06 2.06-.94-2.06-.94L8.5 2.5l-.94 2.06-2.06.94zm10 10l.94 2.06.94-2.06 2.06-.94-2.06-.94-.94-2.06-.94 2.06-2.06.94z\"/><path d=\"M17.41 7.96l-1.37-1.37c-.4-.4-.92-.59-1.43-.59-.52 0-1.04.2-1.43.59L10.3 9.45l-7.72 7.72c-.78.78-.78 2.05 0 2.83L4 21.41c.39.39.9.59 1.41.59.51 0 1.02-.2 1.41-.59l7.78-7.78 2.81-2.81c.8-.78.8-2.07 0-2.86zM5.41 20L4 18.59l7.72-7.72 1.47 1.35L5.41 20z\"/>\n",
              "  </svg>\n",
              "      </button>\n",
              "\n",
              "\n",
              "\n",
              "    <div id=\"df-b70c3418-4ae1-4284-b427-f86064e164e8\">\n",
              "      <button class=\"colab-df-quickchart\" onclick=\"quickchart('df-b70c3418-4ae1-4284-b427-f86064e164e8')\"\n",
              "              title=\"Suggest charts.\"\n",
              "              style=\"display:none;\">\n",
              "\n",
              "<svg xmlns=\"http://www.w3.org/2000/svg\" height=\"24px\"viewBox=\"0 0 24 24\"\n",
              "     width=\"24px\">\n",
              "    <g>\n",
              "        <path d=\"M19 3H5c-1.1 0-2 .9-2 2v14c0 1.1.9 2 2 2h14c1.1 0 2-.9 2-2V5c0-1.1-.9-2-2-2zM9 17H7v-7h2v7zm4 0h-2V7h2v10zm4 0h-2v-4h2v4z\"/>\n",
              "    </g>\n",
              "</svg>\n",
              "      </button>\n",
              "    </div>\n",
              "\n",
              "<style>\n",
              "  .colab-df-quickchart {\n",
              "    background-color: #E8F0FE;\n",
              "    border: none;\n",
              "    border-radius: 50%;\n",
              "    cursor: pointer;\n",
              "    display: none;\n",
              "    fill: #1967D2;\n",
              "    height: 32px;\n",
              "    padding: 0 0 0 0;\n",
              "    width: 32px;\n",
              "  }\n",
              "\n",
              "  .colab-df-quickchart:hover {\n",
              "    background-color: #E2EBFA;\n",
              "    box-shadow: 0px 1px 2px rgba(60, 64, 67, 0.3), 0px 1px 3px 1px rgba(60, 64, 67, 0.15);\n",
              "    fill: #174EA6;\n",
              "  }\n",
              "\n",
              "  [theme=dark] .colab-df-quickchart {\n",
              "    background-color: #3B4455;\n",
              "    fill: #D2E3FC;\n",
              "  }\n",
              "\n",
              "  [theme=dark] .colab-df-quickchart:hover {\n",
              "    background-color: #434B5C;\n",
              "    box-shadow: 0px 1px 3px 1px rgba(0, 0, 0, 0.15);\n",
              "    filter: drop-shadow(0px 1px 2px rgba(0, 0, 0, 0.3));\n",
              "    fill: #FFFFFF;\n",
              "  }\n",
              "</style>\n",
              "\n",
              "    <script>\n",
              "      async function quickchart(key) {\n",
              "        const containerElement = document.querySelector('#' + key);\n",
              "        const charts = await google.colab.kernel.invokeFunction(\n",
              "            'suggestCharts', [key], {});\n",
              "      }\n",
              "    </script>\n",
              "\n",
              "      <script>\n",
              "\n",
              "function displayQuickchartButton(domScope) {\n",
              "  let quickchartButtonEl =\n",
              "    domScope.querySelector('#df-b70c3418-4ae1-4284-b427-f86064e164e8 button.colab-df-quickchart');\n",
              "  quickchartButtonEl.style.display =\n",
              "    google.colab.kernel.accessAllowed ? 'block' : 'none';\n",
              "}\n",
              "\n",
              "        displayQuickchartButton(document);\n",
              "      </script>\n",
              "      <style>\n",
              "    .colab-df-container {\n",
              "      display:flex;\n",
              "      flex-wrap:wrap;\n",
              "      gap: 12px;\n",
              "    }\n",
              "\n",
              "    .colab-df-convert {\n",
              "      background-color: #E8F0FE;\n",
              "      border: none;\n",
              "      border-radius: 50%;\n",
              "      cursor: pointer;\n",
              "      display: none;\n",
              "      fill: #1967D2;\n",
              "      height: 32px;\n",
              "      padding: 0 0 0 0;\n",
              "      width: 32px;\n",
              "    }\n",
              "\n",
              "    .colab-df-convert:hover {\n",
              "      background-color: #E2EBFA;\n",
              "      box-shadow: 0px 1px 2px rgba(60, 64, 67, 0.3), 0px 1px 3px 1px rgba(60, 64, 67, 0.15);\n",
              "      fill: #174EA6;\n",
              "    }\n",
              "\n",
              "    [theme=dark] .colab-df-convert {\n",
              "      background-color: #3B4455;\n",
              "      fill: #D2E3FC;\n",
              "    }\n",
              "\n",
              "    [theme=dark] .colab-df-convert:hover {\n",
              "      background-color: #434B5C;\n",
              "      box-shadow: 0px 1px 3px 1px rgba(0, 0, 0, 0.15);\n",
              "      filter: drop-shadow(0px 1px 2px rgba(0, 0, 0, 0.3));\n",
              "      fill: #FFFFFF;\n",
              "    }\n",
              "  </style>\n",
              "\n",
              "      <script>\n",
              "        const buttonEl =\n",
              "          document.querySelector('#df-87e3aad1-c9c7-4807-8e5f-8728112d7e97 button.colab-df-convert');\n",
              "        buttonEl.style.display =\n",
              "          google.colab.kernel.accessAllowed ? 'block' : 'none';\n",
              "\n",
              "        async function convertToInteractive(key) {\n",
              "          const element = document.querySelector('#df-87e3aad1-c9c7-4807-8e5f-8728112d7e97');\n",
              "          const dataTable =\n",
              "            await google.colab.kernel.invokeFunction('convertToInteractive',\n",
              "                                                     [key], {});\n",
              "          if (!dataTable) return;\n",
              "\n",
              "          const docLinkHtml = 'Like what you see? Visit the ' +\n",
              "            '<a target=\"_blank\" href=https://colab.research.google.com/notebooks/data_table.ipynb>data table notebook</a>'\n",
              "            + ' to learn more about interactive tables.';\n",
              "          element.innerHTML = '';\n",
              "          dataTable['output_type'] = 'display_data';\n",
              "          await google.colab.output.renderOutput(dataTable, element);\n",
              "          const docLink = document.createElement('div');\n",
              "          docLink.innerHTML = docLinkHtml;\n",
              "          element.appendChild(docLink);\n",
              "        }\n",
              "      </script>\n",
              "    </div>\n",
              "  </div>\n"
            ]
          },
          "metadata": {},
          "execution_count": 8
        }
      ]
    },
    {
      "cell_type": "code",
      "source": [
        "sns.barplot(x='product_id', y='comment_count' , data=products_comments)"
      ],
      "metadata": {
        "colab": {
          "base_uri": "https://localhost:8080/",
          "height": 467
        },
        "id": "gST4Hh9Xk5Pc",
        "outputId": "c27c0a40-781a-4896-c8d7-b5234670dc69"
      },
      "execution_count": 9,
      "outputs": [
        {
          "output_type": "execute_result",
          "data": {
            "text/plain": [
              "<Axes: xlabel='product_id', ylabel='comment_count'>"
            ]
          },
          "metadata": {},
          "execution_count": 9
        },
        {
          "output_type": "display_data",
          "data": {
            "text/plain": [
              "<Figure size 640x480 with 1 Axes>"
            ],
            "image/png": "[encoded data removed]"
          },
          "metadata": {}
        }
      ]
    },
    {
      "cell_type": "markdown",
      "metadata": {
        "id": "V6DqL-zWaqCC"
      },
      "source": [
        "# **Preprocessing**"
      ]
    },
    {
      "cell_type": "code",
      "execution_count": 19,
      "metadata": {
        "id": "kiPHtfwuyCdf"
      },
      "outputs": [],
      "source": [
        "def delete_dup(df, column):\n",
        "  return df.drop_duplicates(subset=[column], inplace=True)  #dropping duplicates"
      ]
    },
    {
      "cell_type": "code",
      "execution_count": 20,
      "metadata": {
        "id": "OEKlgt7UQp9E"
      },
      "outputs": [],
      "source": [
        "def delete_nan(df, column):\n",
        "  return df.dropna(subset=[column], inplace=True)"
      ]
    },
    {
      "cell_type": "code",
      "execution_count": 21,
      "metadata": {
        "id": "0UZTG5HdgD0S"
      },
      "outputs": [],
      "source": [
        "comments.drop(columns = ['product_id', 'confirmed_at'], inplace = True)"
      ]
    },
    {
      "cell_type": "code",
      "execution_count": 22,
      "metadata": {
        "colab": {
          "base_uri": "https://localhost:8080/",
          "height": 424
        },
        "id": "Msf-MM06g3ei",
        "outputId": "9e74eb3e-e487-43c5-d6cc-426181bf6528"
      },
      "outputs": [
        {
          "output_type": "execute_result",
          "data": {
            "text/plain": [
              "                                                  comment\n",
              "0       سلام، قبل اینکه نظرم رو بگم میخواستم به یک موض...\n",
              "1       بوی تند ولی خوشبو داره.ماندگاریش خوبه و هر چقد...\n",
              "2       متاسفانه عمر مفید این ماشین کم هست و بعد از دو...\n",
              "3       افا از وقتی من اینو واسه پسرم خریدم همه بچه ها...\n",
              "4       این تیغ محصول کشور آمریکا هست ( در عکس محصول م...\n",
              "...                                                   ...\n",
              "100003  قیمت مناسبی داره در حال حاضر . با این پول سخت ...\n",
              "100004  در کل راضیم درسته لنوو با قیمت پایین تر هسته و...\n",
              "100005  من این محصول رو از بیرون تهیه کردم . و باید بگ...\n",
              "100006  دوسال و.نیم پیش از دیجی کالا گرفتم. هنوز مثل ر...\n",
              "100007  با استفاده از این شامپو مشکل خشکی مو و پوست سر...\n",
              "\n",
              "[100008 rows x 1 columns]"
            ],
            "text/html": [
              "\n",
              "\n",
              "  <div id=\"df-44b3c049-75d6-4165-9707-13f0fa9f78cd\">\n",
              "    <div class=\"colab-df-container\">\n",
              "      <div>\n",
              "<style scoped>\n",
              "    .dataframe tbody tr th:only-of-type {\n",
              "        vertical-align: middle;\n",
              "    }\n",
              "\n",
              "    .dataframe tbody tr th {\n",
              "        vertical-align: top;\n",
              "    }\n",
              "\n",
              "    .dataframe thead th {\n",
              "        text-align: right;\n",
              "    }\n",
              "</style>\n",
              "<table border=\"1\" class=\"dataframe\">\n",
              "  <thead>\n",
              "    <tr style=\"text-align: right;\">\n",
              "      <th></th>\n",
              "      <th>comment</th>\n",
              "    </tr>\n",
              "  </thead>\n",
              "  <tbody>\n",
              "    <tr>\n",
              "      <th>0</th>\n",
              "      <td>سلام، قبل اینکه نظرم رو بگم میخواستم به یک موض...</td>\n",
              "    </tr>\n",
              "    <tr>\n",
              "      <th>1</th>\n",
              "      <td>بوی تند ولی خوشبو داره.ماندگاریش خوبه و هر چقد...</td>\n",
              "    </tr>\n",
              "    <tr>\n",
              "      <th>2</th>\n",
              "      <td>متاسفانه عمر مفید این ماشین کم هست و بعد از دو...</td>\n",
              "    </tr>\n",
              "    <tr>\n",
              "      <th>3</th>\n",
              "      <td>افا از وقتی من اینو واسه پسرم خریدم همه بچه ها...</td>\n",
              "    </tr>\n",
              "    <tr>\n",
              "      <th>4</th>\n",
              "      <td>این تیغ محصول کشور آمریکا هست ( در عکس محصول م...</td>\n",
              "    </tr>\n",
              "    <tr>\n",
              "      <th>...</th>\n",
              "      <td>...</td>\n",
              "    </tr>\n",
              "    <tr>\n",
              "      <th>100003</th>\n",
              "      <td>قیمت مناسبی داره در حال حاضر . با این پول سخت ...</td>\n",
              "    </tr>\n",
              "    <tr>\n",
              "      <th>100004</th>\n",
              "      <td>در کل راضیم درسته لنوو با قیمت پایین تر هسته و...</td>\n",
              "    </tr>\n",
              "    <tr>\n",
              "      <th>100005</th>\n",
              "      <td>من این محصول رو از بیرون تهیه کردم . و باید بگ...</td>\n",
              "    </tr>\n",
              "    <tr>\n",
              "      <th>100006</th>\n",
              "      <td>دوسال و.نیم پیش از دیجی کالا گرفتم. هنوز مثل ر...</td>\n",
              "    </tr>\n",
              "    <tr>\n",
              "      <th>100007</th>\n",
              "      <td>با استفاده از این شامپو مشکل خشکی مو و پوست سر...</td>\n",
              "    </tr>\n",
              "  </tbody>\n",
              "</table>\n",
              "<p>100008 rows × 1 columns</p>\n",
              "</div>\n",
              "      <button class=\"colab-df-convert\" onclick=\"convertToInteractive('df-44b3c049-75d6-4165-9707-13f0fa9f78cd')\"\n",
              "              title=\"Convert this dataframe to an interactive table.\"\n",
              "              style=\"display:none;\">\n",
              "\n",
              "  <svg xmlns=\"http://www.w3.org/2000/svg\" height=\"24px\"viewBox=\"0 0 24 24\"\n",
              "       width=\"24px\">\n",
              "    <path d=\"M0 0h24v24H0V0z\" fill=\"none\"/>\n",
              "    <path d=\"M18.56 5.44l.94 2.06.94-2.06 2.06-.94-2.06-.94-.94-2.06-.94 2.06-2.06.94zm-11 1L8.5 8.5l.94-2.06 2.06-.94-2.06-.94L8.5 2.5l-.94 2.06-2.06.94zm10 10l.94 2.06.94-2.06 2.06-.94-2.06-.94-.94-2.06-.94 2.06-2.06.94z\"/><path d=\"M17.41 7.96l-1.37-1.37c-.4-.4-.92-.59-1.43-.59-.52 0-1.04.2-1.43.59L10.3 9.45l-7.72 7.72c-.78.78-.78 2.05 0 2.83L4 21.41c.39.39.9.59 1.41.59.51 0 1.02-.2 1.41-.59l7.78-7.78 2.81-2.81c.8-.78.8-2.07 0-2.86zM5.41 20L4 18.59l7.72-7.72 1.47 1.35L5.41 20z\"/>\n",
              "  </svg>\n",
              "      </button>\n",
              "\n",
              "\n",
              "\n",
              "    <div id=\"df-8279400c-b9cd-4be7-80ea-f50316ba08a4\">\n",
              "      <button class=\"colab-df-quickchart\" onclick=\"quickchart('df-8279400c-b9cd-4be7-80ea-f50316ba08a4')\"\n",
              "              title=\"Suggest charts.\"\n",
              "              style=\"display:none;\">\n",
              "\n",
              "<svg xmlns=\"http://www.w3.org/2000/svg\" height=\"24px\"viewBox=\"0 0 24 24\"\n",
              "     width=\"24px\">\n",
              "    <g>\n",
              "        <path d=\"M19 3H5c-1.1 0-2 .9-2 2v14c0 1.1.9 2 2 2h14c1.1 0 2-.9 2-2V5c0-1.1-.9-2-2-2zM9 17H7v-7h2v7zm4 0h-2V7h2v10zm4 0h-2v-4h2v4z\"/>\n",
              "    </g>\n",
              "</svg>\n",
              "      </button>\n",
              "    </div>\n",
              "\n",
              "<style>\n",
              "  .colab-df-quickchart {\n",
              "    background-color: #E8F0FE;\n",
              "    border: none;\n",
              "    border-radius: 50%;\n",
              "    cursor: pointer;\n",
              "    display: none;\n",
              "    fill: #1967D2;\n",
              "    height: 32px;\n",
              "    padding: 0 0 0 0;\n",
              "    width: 32px;\n",
              "  }\n",
              "\n",
              "  .colab-df-quickchart:hover {\n",
              "    background-color: #E2EBFA;\n",
              "    box-shadow: 0px 1px 2px rgba(60, 64, 67, 0.3), 0px 1px 3px 1px rgba(60, 64, 67, 0.15);\n",
              "    fill: #174EA6;\n",
              "  }\n",
              "\n",
              "  [theme=dark] .colab-df-quickchart {\n",
              "    background-color: #3B4455;\n",
              "    fill: #D2E3FC;\n",
              "  }\n",
              "\n",
              "  [theme=dark] .colab-df-quickchart:hover {\n",
              "    background-color: #434B5C;\n",
              "    box-shadow: 0px 1px 3px 1px rgba(0, 0, 0, 0.15);\n",
              "    filter: drop-shadow(0px 1px 2px rgba(0, 0, 0, 0.3));\n",
              "    fill: #FFFFFF;\n",
              "  }\n",
              "</style>\n",
              "\n",
              "    <script>\n",
              "      async function quickchart(key) {\n",
              "        const containerElement = document.querySelector('#' + key);\n",
              "        const charts = await google.colab.kernel.invokeFunction(\n",
              "            'suggestCharts', [key], {});\n",
              "      }\n",
              "    </script>\n",
              "\n",
              "      <script>\n",
              "\n",
              "function displayQuickchartButton(domScope) {\n",
              "  let quickchartButtonEl =\n",
              "    domScope.querySelector('#df-8279400c-b9cd-4be7-80ea-f50316ba08a4 button.colab-df-quickchart');\n",
              "  quickchartButtonEl.style.display =\n",
              "    google.colab.kernel.accessAllowed ? 'block' : 'none';\n",
              "}\n",
              "\n",
              "        displayQuickchartButton(document);\n",
              "      </script>\n",
              "      <style>\n",
              "    .colab-df-container {\n",
              "      display:flex;\n",
              "      flex-wrap:wrap;\n",
              "      gap: 12px;\n",
              "    }\n",
              "\n",
              "    .colab-df-convert {\n",
              "      background-color: #E8F0FE;\n",
              "      border: none;\n",
              "      border-radius: 50%;\n",
              "      cursor: pointer;\n",
              "      display: none;\n",
              "      fill: #1967D2;\n",
              "      height: 32px;\n",
              "      padding: 0 0 0 0;\n",
              "      width: 32px;\n",
              "    }\n",
              "\n",
              "    .colab-df-convert:hover {\n",
              "      background-color: #E2EBFA;\n",
              "      box-shadow: 0px 1px 2px rgba(60, 64, 67, 0.3), 0px 1px 3px 1px rgba(60, 64, 67, 0.15);\n",
              "      fill: #174EA6;\n",
              "    }\n",
              "\n",
              "    [theme=dark] .colab-df-convert {\n",
              "      background-color: #3B4455;\n",
              "      fill: #D2E3FC;\n",
              "    }\n",
              "\n",
              "    [theme=dark] .colab-df-convert:hover {\n",
              "      background-color: #434B5C;\n",
              "      box-shadow: 0px 1px 3px 1px rgba(0, 0, 0, 0.15);\n",
              "      filter: drop-shadow(0px 1px 2px rgba(0, 0, 0, 0.3));\n",
              "      fill: #FFFFFF;\n",
              "    }\n",
              "  </style>\n",
              "\n",
              "      <script>\n",
              "        const buttonEl =\n",
              "          document.querySelector('#df-44b3c049-75d6-4165-9707-13f0fa9f78cd button.colab-df-convert');\n",
              "        buttonEl.style.display =\n",
              "          google.colab.kernel.accessAllowed ? 'block' : 'none';\n",
              "\n",
              "        async function convertToInteractive(key) {\n",
              "          const element = document.querySelector('#df-44b3c049-75d6-4165-9707-13f0fa9f78cd');\n",
              "          const dataTable =\n",
              "            await google.colab.kernel.invokeFunction('convertToInteractive',\n",
              "                                                     [key], {});\n",
              "          if (!dataTable) return;\n",
              "\n",
              "          const docLinkHtml = 'Like what you see? Visit the ' +\n",
              "            '<a target=\"_blank\" href=https://colab.research.google.com/notebooks/data_table.ipynb>data table notebook</a>'\n",
              "            + ' to learn more about interactive tables.';\n",
              "          element.innerHTML = '';\n",
              "          dataTable['output_type'] = 'display_data';\n",
              "          await google.colab.output.renderOutput(dataTable, element);\n",
              "          const docLink = document.createElement('div');\n",
              "          docLink.innerHTML = docLinkHtml;\n",
              "          element.appendChild(docLink);\n",
              "        }\n",
              "      </script>\n",
              "    </div>\n",
              "  </div>\n"
            ]
          },
          "metadata": {},
          "execution_count": 22
        }
      ],
      "source": [
        "comments"
      ]
    },
    {
      "cell_type": "code",
      "execution_count": 23,
      "metadata": {
        "colab": {
          "base_uri": "https://localhost:8080/"
        },
        "id": "Q8PYo34syasI",
        "outputId": "f7d1cf04-be18-4510-d66d-838af9bd6ae3"
      },
      "outputs": [
        {
          "output_type": "stream",
          "name": "stdout",
          "text": [
            "<class 'pandas.core.frame.DataFrame'>\n",
            "Int64Index: 97777 entries, 0 to 100007\n",
            "Data columns (total 1 columns):\n",
            " #   Column   Non-Null Count  Dtype \n",
            "---  ------   --------------  ----- \n",
            " 0   comment  97777 non-null  object\n",
            "dtypes: object(1)\n",
            "memory usage: 1.5+ MB\n"
          ]
        }
      ],
      "source": [
        "delete_dup(comments, 'comment')\n",
        "delete_nan(comments, 'comment')\n",
        "\n",
        "comments.info()"
      ]
    },
    {
      "cell_type": "code",
      "execution_count": 25,
      "metadata": {
        "id": "TFiDAaROrl2I"
      },
      "outputs": [],
      "source": [
        "import re\n",
        "from nltk.tokenize import RegexpTokenizer"
      ]
    },
    {
      "cell_type": "code",
      "execution_count": 26,
      "metadata": {
        "id": "1mgUxzP0atBM"
      },
      "outputs": [],
      "source": [
        "tokenizer = RegexpTokenizer('\\s+', gaps = True)"
      ]
    },
    {
      "cell_type": "code",
      "execution_count": 27,
      "metadata": {
        "id": "cvEteh81ri8f"
      },
      "outputs": [],
      "source": [
        "def tokenize_text(text):\n",
        "  return tokenizer.tokenize(re.sub(\"\\W\", \" \", text))"
      ]
    },
    {
      "cell_type": "code",
      "execution_count": 28,
      "metadata": {
        "id": "CAvszGk4rqo-"
      },
      "outputs": [],
      "source": [
        "stopwords = tokenize_text(stopwords)"
      ]
    },
    {
      "cell_type": "code",
      "execution_count": 29,
      "metadata": {
        "id": "lgKkBppiwSzN"
      },
      "outputs": [],
      "source": [
        "def delete_empty_rows(df):\n",
        "  return df.drop(df[df.comment == ' '].index, inplace = True)"
      ]
    },
    {
      "cell_type": "code",
      "execution_count": 30,
      "metadata": {
        "id": "tWys7MiBvv7N"
      },
      "outputs": [],
      "source": [
        "def delete_stopwords(tokens):\n",
        "  filtered_tokens = ''\n",
        "\n",
        "  for word in tokens:\n",
        "    if word not in stopwords:\n",
        "      filtered_tokens = filtered_tokens + ' ' + word\n",
        "\n",
        "  return filtered_tokens"
      ]
    },
    {
      "cell_type": "code",
      "execution_count": 31,
      "metadata": {
        "id": "Vm7G05W5wQLo"
      },
      "outputs": [],
      "source": [
        "def change_row_val(df, row, newVal):\n",
        "  return df.replace(row, newVal, inplace = True)"
      ]
    },
    {
      "cell_type": "code",
      "execution_count": 32,
      "metadata": {
        "id": "-66asVVUwNLo"
      },
      "outputs": [],
      "source": [
        "def update_df(df, column):\n",
        "  for row in df[column]:\n",
        "    change_row_val(df, str(row), delete_stopwords(tokenize_text(str(row))))\n",
        "\n",
        "  delete_empty_rows(df)\n",
        "  return delete_dup(df, column)"
      ]
    },
    {
      "cell_type": "code",
      "execution_count": 33,
      "metadata": {
        "id": "7ar149wGwNvR"
      },
      "outputs": [],
      "source": [
        "update_df(comments, 'comment')"
      ]
    },
    {
      "cell_type": "code",
      "execution_count": 34,
      "metadata": {
        "colab": {
          "base_uri": "https://localhost:8080/",
          "height": 424
        },
        "id": "grfxbX-mARb6",
        "outputId": "0231f61a-7018-4a28-b806-e5119ba389ff"
      },
      "outputs": [
        {
          "output_type": "execute_result",
          "data": {
            "text/plain": [
              "                                                  comment\n",
              "0        سلام اینکه نظرم رو بگم میخواستم موضوع مهم اشا...\n",
              "1        بوی تند خوشبو داره ماندگاریش خوبه چقدر میگذره...\n",
              "2        متاسفانه عمر مفید این ماشین کم سال دیگه باطری...\n",
              "3        افا وقتی اینو واسه پسرم خریدم بچه های فامیل ع...\n",
              "4        این تیغ محصول کشور آمریکا عکس محصول مشخص شرکت...\n",
              "...                                                   ...\n",
              "100003   قیمت مناسبی داره حال حاضر این پول سخت میشه یه...\n",
              "100004   کل راضیم درسته لنوو قیمت پایین هسته ایسوس جنس...\n",
              "100005   این محصول رو تهیه کردم باید بگم زیباست مقاومت...\n",
              "100006      دوسال نیم دیجی کالا گرفتم روز کار میکنه عالیه\n",
              "100007   این شامپو مشکل خشکی مو پوست سر ضعف ریشه مو قع...\n",
              "\n",
              "[96942 rows x 1 columns]"
            ],
            "text/html": [
              "\n",
              "\n",
              "  <div id=\"df-7ae49c4e-bc94-45d8-baff-7eb5a0493194\">\n",
              "    <div class=\"colab-df-container\">\n",
              "      <div>\n",
              "<style scoped>\n",
              "    .dataframe tbody tr th:only-of-type {\n",
              "        vertical-align: middle;\n",
              "    }\n",
              "\n",
              "    .dataframe tbody tr th {\n",
              "        vertical-align: top;\n",
              "    }\n",
              "\n",
              "    .dataframe thead th {\n",
              "        text-align: right;\n",
              "    }\n",
              "</style>\n",
              "<table border=\"1\" class=\"dataframe\">\n",
              "  <thead>\n",
              "    <tr style=\"text-align: right;\">\n",
              "      <th></th>\n",
              "      <th>comment</th>\n",
              "    </tr>\n",
              "  </thead>\n",
              "  <tbody>\n",
              "    <tr>\n",
              "      <th>0</th>\n",
              "      <td>سلام اینکه نظرم رو بگم میخواستم موضوع مهم اشا...</td>\n",
              "    </tr>\n",
              "    <tr>\n",
              "      <th>1</th>\n",
              "      <td>بوی تند خوشبو داره ماندگاریش خوبه چقدر میگذره...</td>\n",
              "    </tr>\n",
              "    <tr>\n",
              "      <th>2</th>\n",
              "      <td>متاسفانه عمر مفید این ماشین کم سال دیگه باطری...</td>\n",
              "    </tr>\n",
              "    <tr>\n",
              "      <th>3</th>\n",
              "      <td>افا وقتی اینو واسه پسرم خریدم بچه های فامیل ع...</td>\n",
              "    </tr>\n",
              "    <tr>\n",
              "      <th>4</th>\n",
              "      <td>این تیغ محصول کشور آمریکا عکس محصول مشخص شرکت...</td>\n",
              "    </tr>\n",
              "    <tr>\n",
              "      <th>...</th>\n",
              "      <td>...</td>\n",
              "    </tr>\n",
              "    <tr>\n",
              "      <th>100003</th>\n",
              "      <td>قیمت مناسبی داره حال حاضر این پول سخت میشه یه...</td>\n",
              "    </tr>\n",
              "    <tr>\n",
              "      <th>100004</th>\n",
              "      <td>کل راضیم درسته لنوو قیمت پایین هسته ایسوس جنس...</td>\n",
              "    </tr>\n",
              "    <tr>\n",
              "      <th>100005</th>\n",
              "      <td>این محصول رو تهیه کردم باید بگم زیباست مقاومت...</td>\n",
              "    </tr>\n",
              "    <tr>\n",
              "      <th>100006</th>\n",
              "      <td>دوسال نیم دیجی کالا گرفتم روز کار میکنه عالیه</td>\n",
              "    </tr>\n",
              "    <tr>\n",
              "      <th>100007</th>\n",
              "      <td>این شامپو مشکل خشکی مو پوست سر ضعف ریشه مو قع...</td>\n",
              "    </tr>\n",
              "  </tbody>\n",
              "</table>\n",
              "<p>96942 rows × 1 columns</p>\n",
              "</div>\n",
              "      <button class=\"colab-df-convert\" onclick=\"convertToInteractive('df-7ae49c4e-bc94-45d8-baff-7eb5a0493194')\"\n",
              "              title=\"Convert this dataframe to an interactive table.\"\n",
              "              style=\"display:none;\">\n",
              "\n",
              "  <svg xmlns=\"http://www.w3.org/2000/svg\" height=\"24px\"viewBox=\"0 0 24 24\"\n",
              "       width=\"24px\">\n",
              "    <path d=\"M0 0h24v24H0V0z\" fill=\"none\"/>\n",
              "    <path d=\"M18.56 5.44l.94 2.06.94-2.06 2.06-.94-2.06-.94-.94-2.06-.94 2.06-2.06.94zm-11 1L8.5 8.5l.94-2.06 2.06-.94-2.06-.94L8.5 2.5l-.94 2.06-2.06.94zm10 10l.94 2.06.94-2.06 2.06-.94-2.06-.94-.94-2.06-.94 2.06-2.06.94z\"/><path d=\"M17.41 7.96l-1.37-1.37c-.4-.4-.92-.59-1.43-.59-.52 0-1.04.2-1.43.59L10.3 9.45l-7.72 7.72c-.78.78-.78 2.05 0 2.83L4 21.41c.39.39.9.59 1.41.59.51 0 1.02-.2 1.41-.59l7.78-7.78 2.81-2.81c.8-.78.8-2.07 0-2.86zM5.41 20L4 18.59l7.72-7.72 1.47 1.35L5.41 20z\"/>\n",
              "  </svg>\n",
              "      </button>\n",
              "\n",
              "\n",
              "\n",
              "    <div id=\"df-a4bf0309-8ebc-46ea-940f-08fea74114bb\">\n",
              "      <button class=\"colab-df-quickchart\" onclick=\"quickchart('df-a4bf0309-8ebc-46ea-940f-08fea74114bb')\"\n",
              "              title=\"Suggest charts.\"\n",
              "              style=\"display:none;\">\n",
              "\n",
              "<svg xmlns=\"http://www.w3.org/2000/svg\" height=\"24px\"viewBox=\"0 0 24 24\"\n",
              "     width=\"24px\">\n",
              "    <g>\n",
              "        <path d=\"M19 3H5c-1.1 0-2 .9-2 2v14c0 1.1.9 2 2 2h14c1.1 0 2-.9 2-2V5c0-1.1-.9-2-2-2zM9 17H7v-7h2v7zm4 0h-2V7h2v10zm4 0h-2v-4h2v4z\"/>\n",
              "    </g>\n",
              "</svg>\n",
              "      </button>\n",
              "    </div>\n",
              "\n",
              "<style>\n",
              "  .colab-df-quickchart {\n",
              "    background-color: #E8F0FE;\n",
              "    border: none;\n",
              "    border-radius: 50%;\n",
              "    cursor: pointer;\n",
              "    display: none;\n",
              "    fill: #1967D2;\n",
              "    height: 32px;\n",
              "    padding: 0 0 0 0;\n",
              "    width: 32px;\n",
              "  }\n",
              "\n",
              "  .colab-df-quickchart:hover {\n",
              "    background-color: #E2EBFA;\n",
              "    box-shadow: 0px 1px 2px rgba(60, 64, 67, 0.3), 0px 1px 3px 1px rgba(60, 64, 67, 0.15);\n",
              "    fill: #174EA6;\n",
              "  }\n",
              "\n",
              "  [theme=dark] .colab-df-quickchart {\n",
              "    background-color: #3B4455;\n",
              "    fill: #D2E3FC;\n",
              "  }\n",
              "\n",
              "  [theme=dark] .colab-df-quickchart:hover {\n",
              "    background-color: #434B5C;\n",
              "    box-shadow: 0px 1px 3px 1px rgba(0, 0, 0, 0.15);\n",
              "    filter: drop-shadow(0px 1px 2px rgba(0, 0, 0, 0.3));\n",
              "    fill: #FFFFFF;\n",
              "  }\n",
              "</style>\n",
              "\n",
              "    <script>\n",
              "      async function quickchart(key) {\n",
              "        const containerElement = document.querySelector('#' + key);\n",
              "        const charts = await google.colab.kernel.invokeFunction(\n",
              "            'suggestCharts', [key], {});\n",
              "      }\n",
              "    </script>\n",
              "\n",
              "      <script>\n",
              "\n",
              "function displayQuickchartButton(domScope) {\n",
              "  let quickchartButtonEl =\n",
              "    domScope.querySelector('#df-a4bf0309-8ebc-46ea-940f-08fea74114bb button.colab-df-quickchart');\n",
              "  quickchartButtonEl.style.display =\n",
              "    google.colab.kernel.accessAllowed ? 'block' : 'none';\n",
              "}\n",
              "\n",
              "        displayQuickchartButton(document);\n",
              "      </script>\n",
              "      <style>\n",
              "    .colab-df-container {\n",
              "      display:flex;\n",
              "      flex-wrap:wrap;\n",
              "      gap: 12px;\n",
              "    }\n",
              "\n",
              "    .colab-df-convert {\n",
              "      background-color: #E8F0FE;\n",
              "      border: none;\n",
              "      border-radius: 50%;\n",
              "      cursor: pointer;\n",
              "      display: none;\n",
              "      fill: #1967D2;\n",
              "      height: 32px;\n",
              "      padding: 0 0 0 0;\n",
              "      width: 32px;\n",
              "    }\n",
              "\n",
              "    .colab-df-convert:hover {\n",
              "      background-color: #E2EBFA;\n",
              "      box-shadow: 0px 1px 2px rgba(60, 64, 67, 0.3), 0px 1px 3px 1px rgba(60, 64, 67, 0.15);\n",
              "      fill: #174EA6;\n",
              "    }\n",
              "\n",
              "    [theme=dark] .colab-df-convert {\n",
              "      background-color: #3B4455;\n",
              "      fill: #D2E3FC;\n",
              "    }\n",
              "\n",
              "    [theme=dark] .colab-df-convert:hover {\n",
              "      background-color: #434B5C;\n",
              "      box-shadow: 0px 1px 3px 1px rgba(0, 0, 0, 0.15);\n",
              "      filter: drop-shadow(0px 1px 2px rgba(0, 0, 0, 0.3));\n",
              "      fill: #FFFFFF;\n",
              "    }\n",
              "  </style>\n",
              "\n",
              "      <script>\n",
              "        const buttonEl =\n",
              "          document.querySelector('#df-7ae49c4e-bc94-45d8-baff-7eb5a0493194 button.colab-df-convert');\n",
              "        buttonEl.style.display =\n",
              "          google.colab.kernel.accessAllowed ? 'block' : 'none';\n",
              "\n",
              "        async function convertToInteractive(key) {\n",
              "          const element = document.querySelector('#df-7ae49c4e-bc94-45d8-baff-7eb5a0493194');\n",
              "          const dataTable =\n",
              "            await google.colab.kernel.invokeFunction('convertToInteractive',\n",
              "                                                     [key], {});\n",
              "          if (!dataTable) return;\n",
              "\n",
              "          const docLinkHtml = 'Like what you see? Visit the ' +\n",
              "            '<a target=\"_blank\" href=https://colab.research.google.com/notebooks/data_table.ipynb>data table notebook</a>'\n",
              "            + ' to learn more about interactive tables.';\n",
              "          element.innerHTML = '';\n",
              "          dataTable['output_type'] = 'display_data';\n",
              "          await google.colab.output.renderOutput(dataTable, element);\n",
              "          const docLink = document.createElement('div');\n",
              "          docLink.innerHTML = docLinkHtml;\n",
              "          element.appendChild(docLink);\n",
              "        }\n",
              "      </script>\n",
              "    </div>\n",
              "  </div>\n"
            ]
          },
          "metadata": {},
          "execution_count": 34
        }
      ],
      "source": [
        "comments"
      ]
    },
    {
      "cell_type": "markdown",
      "metadata": {
        "id": "XDaa8RbPvGan"
      },
      "source": [
        "# **Vectorizing: TF IDF**"
      ]
    },
    {
      "cell_type": "code",
      "execution_count": 35,
      "metadata": {
        "id": "DA8oYaCYu9vo"
      },
      "outputs": [],
      "source": [
        "texts = comments['comment']"
      ]
    },
    {
      "cell_type": "code",
      "execution_count": 36,
      "metadata": {
        "colab": {
          "base_uri": "https://localhost:8080/"
        },
        "id": "3ysmIfGO7eJ1",
        "outputId": "fb763c79-6b04-4310-f73d-0789791a4236"
      },
      "outputs": [
        {
          "output_type": "execute_result",
          "data": {
            "text/plain": [
              "0          سلام اینکه نظرم رو بگم میخواستم موضوع مهم اشا...\n",
              "1          بوی تند خوشبو داره ماندگاریش خوبه چقدر میگذره...\n",
              "2          متاسفانه عمر مفید این ماشین کم سال دیگه باطری...\n",
              "3          افا وقتی اینو واسه پسرم خریدم بچه های فامیل ع...\n",
              "4          این تیغ محصول کشور آمریکا عکس محصول مشخص شرکت...\n",
              "                                ...                        \n",
              "100003     قیمت مناسبی داره حال حاضر این پول سخت میشه یه...\n",
              "100004     کل راضیم درسته لنوو قیمت پایین هسته ایسوس جنس...\n",
              "100005     این محصول رو تهیه کردم باید بگم زیباست مقاومت...\n",
              "100006        دوسال نیم دیجی کالا گرفتم روز کار میکنه عالیه\n",
              "100007     این شامپو مشکل خشکی مو پوست سر ضعف ریشه مو قع...\n",
              "Name: comment, Length: 96942, dtype: object"
            ]
          },
          "metadata": {},
          "execution_count": 36
        }
      ],
      "source": [
        "texts"
      ]
    },
    {
      "cell_type": "code",
      "execution_count": 37,
      "metadata": {
        "id": "UalLBjXZvFZr"
      },
      "outputs": [],
      "source": [
        "import warnings\n",
        "warnings.filterwarnings(\"ignore\")\n",
        "\n",
        "from sklearn.feature_extraction.text import TfidfVectorizer\n",
        "\n",
        "import numpy as np\n",
        "import pandas as pd\n",
        "import matplotlib.pyplot as plt\n",
        "\n",
        "from sklearn.decomposition import TruncatedSVD"
      ]
    },
    {
      "cell_type": "code",
      "execution_count": 38,
      "metadata": {
        "colab": {
          "base_uri": "https://localhost:8080/"
        },
        "id": "lZi-nQZgAjCO",
        "outputId": "8f31edcd-c1a3-49f8-9dd1-3e5b6a6022a6"
      },
      "outputs": [
        {
          "output_type": "stream",
          "name": "stdout",
          "text": [
            "['00' '000' '0000' ... 'ﻧﺪاﺭﻡ' 'ﻫﺴﺖ' 'ﻫﻨﻮﺯ']\n",
            "[[0. 0. 0. ... 0. 0. 0.]\n",
            " [0. 0. 0. ... 0. 0. 0.]\n",
            " [0. 0. 0. ... 0. 0. 0.]\n",
            " ...\n",
            " [0. 0. 0. ... 0. 0. 0.]\n",
            " [0. 0. 0. ... 0. 0. 0.]\n",
            " [0. 0. 0. ... 0. 0. 0.]]\n",
            "\n",
            "The shape of the TF-IDF matrix is:  (96942, 78270)\n"
          ]
        }
      ],
      "source": [
        "vectorizer = TfidfVectorizer(use_idf=True, smooth_idf=True, sublinear_tf=False)\n",
        "vectors = vectorizer.fit_transform(texts)\n",
        "\n",
        "print(vectorizer.get_feature_names_out())\n",
        "print(vectors.toarray())\n",
        "print(\"\\nThe shape of the TF-IDF matrix is: \", vectors.shape)"
      ]
    },
    {
      "cell_type": "code",
      "source": [
        "zero_array = np.zeros((vectors.shape[0], vectors.shape[0]))\n",
        "\n",
        "square_array = np.append(zero_array, np.array(vectors))"
      ],
      "metadata": {
        "id": "5Rc5QhL5rp9J"
      },
      "execution_count": null,
      "outputs": []
    },
    {
      "cell_type": "code",
      "source": [
        "square_array.shape"
      ],
      "metadata": {
        "colab": {
          "base_uri": "https://localhost:8080/"
        },
        "id": "qOBjyTAVsLYX",
        "outputId": "5f81046a-d798-48ce-d2b0-3b56f8424c81"
      },
      "execution_count": 42,
      "outputs": [
        {
          "output_type": "execute_result",
          "data": {
            "text/plain": [
              "(96943,)"
            ]
          },
          "metadata": {},
          "execution_count": 42
        }
      ]
    },
    {
      "cell_type": "code",
      "execution_count": 39,
      "metadata": {
        "id": "Fav1Z67dqyQt"
      },
      "outputs": [],
      "source": [
        "pca = TruncatedSVD(n_components=200)\n",
        "vectors_reshaped = pca.fit_transform(vectors)"
      ]
    },
    {
      "cell_type": "code",
      "source": [
        "vectors_reshaped.shape"
      ],
      "metadata": {
        "colab": {
          "base_uri": "https://localhost:8080/"
        },
        "id": "3ntBJb7zriQo",
        "outputId": "fe408f43-418c-41ea-8ba7-7d7daf3f45dc"
      },
      "execution_count": 40,
      "outputs": [
        {
          "output_type": "execute_result",
          "data": {
            "text/plain": [
              "(96942, 200)"
            ]
          },
          "metadata": {},
          "execution_count": 40
        }
      ]
    },
    {
      "cell_type": "markdown",
      "metadata": {
        "id": "j6xpR3s6xREt"
      },
      "source": [
        "# **DBSCAN**"
      ]
    },
    {
      "cell_type": "code",
      "execution_count": null,
      "metadata": {
        "id": "pA3n97XVxS9J"
      },
      "outputs": [],
      "source": [
        "def dbscan(D, eps, MinPts):\n",
        "    '''\n",
        "    Cluster the dataset `D` using the DBSCAN algorithm.\n",
        "\n",
        "    dbscan takes a dataset `D` (a list of vectors), a threshold distance\n",
        "    `eps`, and a required number of points `MinPts`.\n",
        "\n",
        "    It will return a list of cluster labels. The label -1 means noise, and then\n",
        "    the clusters are numbered starting from 1.\n",
        "    '''\n",
        "\n",
        "    # This list will hold the final cluster assignment for each point in D.\n",
        "    # There are two reserved values:\n",
        "    #    -1 - Indicates a noise point\n",
        "    #     0 - Means the point hasn't been considered yet.\n",
        "    # Initially all labels are 0.\n",
        "    labels = [0]*len(D)\n",
        "\n",
        "    # C is the ID of the current cluster.\n",
        "    C = 0\n",
        "\n",
        "    # This outer loop is just responsible for picking new seed points--a point\n",
        "    # from which to grow a new cluster.\n",
        "    # Once a valid seed point is found, a new cluster is created, and the\n",
        "    # cluster growth is all handled by the 'expandCluster' routine.\n",
        "\n",
        "    # For each point P in the Dataset D...\n",
        "    # ('P' is the index of the datapoint, rather than the datapoint itself.)\n",
        "    for P in range(0, len(D)):\n",
        "        # Only points that have not already been claimed can be picked as new\n",
        "        # seed points.\n",
        "        # If the point's label is not 0, continue to the next point.\n",
        "        if not (labels[P] == 0):\n",
        "           continue\n",
        "\n",
        "        # Find all of P's neighboring points.\n",
        "        NeighborPts = region_query(D, P, eps)\n",
        "\n",
        "        # If the number is below MinPts, this point is noise.\n",
        "        # This is the only condition under which a point is labeled\n",
        "        # NOISE--when it's not a valid seed point. A NOISE point may later\n",
        "        # be picked up by another cluster as a boundary point (this is the only\n",
        "        # condition under which a cluster label can change--from NOISE to\n",
        "        # something else).\n",
        "        if len(NeighborPts) < MinPts:\n",
        "            labels[P] = -1\n",
        "        # Otherwise, if there are at least MinPts nearby, use this point as the\n",
        "        # seed for a new cluster.\n",
        "        else:\n",
        "           C += 1\n",
        "           grow_cluster(D, labels, P, NeighborPts, C, eps, MinPts)\n",
        "\n",
        "    # All data has been clustered!\n",
        "    return labels\n",
        "\n",
        "\n",
        "def grow_cluster(D, labels, P, NeighborPts, C, eps, MinPts):\n",
        "    '''\n",
        "    Grow a new cluster with label `C` from the seed point `P`.\n",
        "\n",
        "    This function searches through the dataset to find all points that belong\n",
        "    to this new cluster. When this function returns, cluster `C` is complete.\n",
        "\n",
        "    Parameters:\n",
        "      `D`      - The dataset (a list of vectors)\n",
        "      `labels` - List storing the cluster labels for all dataset points\n",
        "      `P`      - Index of the seed point for this new cluster\n",
        "      `NeighborPts` - All of the neighbors of `P`\n",
        "      `C`      - The label for this new cluster.\n",
        "      `eps`    - Threshold distance\n",
        "      `MinPts` - Minimum required number of neighbors\n",
        "    '''\n",
        "\n",
        "    # Assign the cluster label to the seed point.\n",
        "    labels[P] = C\n",
        "\n",
        "    # Look at each neighbor of P (neighbors are referred to as Pn).\n",
        "    # NeighborPts will be used as a FIFO queue of points to search--that is, it\n",
        "    # will grow as we discover new branch points for the cluster. The FIFO\n",
        "    # behavior is accomplished by using a while-loop rather than a for-loop.\n",
        "    # In NeighborPts, the points are represented by their index in the original\n",
        "    # dataset.\n",
        "    i = 0\n",
        "    while i < len(NeighborPts):\n",
        "\n",
        "        # Get the next point from the queue.\n",
        "        Pn = NeighborPts[i]\n",
        "\n",
        "        # If Pn was labelled NOISE during the seed search, then we\n",
        "        # know it's not a branch point (it doesn't have enough neighbors), so\n",
        "        # make it a leaf point of cluster C and move on.\n",
        "        if labels[Pn] == -1:\n",
        "           labels[Pn] = C\n",
        "\n",
        "        # Otherwise, if Pn isn't already claimed, claim it as part of C.\n",
        "        elif labels[Pn] == 0:\n",
        "            # Add Pn to cluster C (Assign cluster label C).\n",
        "            labels[Pn] = C\n",
        "\n",
        "            # Find all the neighbors of Pn\n",
        "            PnNeighborPts = region_query(D, Pn, eps)\n",
        "\n",
        "            # If Pn has at least MinPts neighbors, it's a branch point!\n",
        "            # Add all of its neighbors to the FIFO queue to be searched.\n",
        "            if len(PnNeighborPts) >= MinPts:\n",
        "                NeighborPts = NeighborPts + PnNeighborPts\n",
        "            # If Pn *doesn't* have enough neighbors, then it's a leaf point.\n",
        "            # Don't queue up it's neighbors as expansion points.\n",
        "            #else:\n",
        "                # Do nothing\n",
        "                #NeighborPts = NeighborPts\n",
        "\n",
        "        # Advance to the next point in the FIFO queue.\n",
        "        i += 1\n",
        "\n",
        "    # We've finished growing cluster C!\n",
        "\n",
        "\n",
        "def region_query(D, P, eps):\n",
        "    '''\n",
        "    Find all points in dataset `D` within distance `eps` of point `P`.\n",
        "\n",
        "    This function calculates the distance between a point P and every other\n",
        "    point in the dataset, and then returns only those points which are within a\n",
        "    threshold distance `eps`.\n",
        "    '''\n",
        "    neighbors = []\n",
        "\n",
        "    # For each point in the dataset...\n",
        "    for Pn in range(0, len(D)):\n",
        "\n",
        "        # If the distance is below the threshold, add it to the neighbors list.\n",
        "        if np.linalg.norm(D[P] - D[Pn]) < eps:\n",
        "           neighbors.append(Pn)\n",
        "\n",
        "    return neighbors"
      ]
    },
    {
      "cell_type": "code",
      "execution_count": null,
      "metadata": {
        "colab": {
          "base_uri": "https://localhost:8080/",
          "height": 310
        },
        "id": "8bb9jVAvp8j9",
        "outputId": "b93c292f-da63-4ea6-da9b-f08c2f7d2dd4"
      },
      "outputs": [
        {
          "output_type": "error",
          "ename": "KeyboardInterrupt",
          "evalue": "ignored",
          "traceback": [
            "\u001b[0;31m---------------------------------------------------------------------------\u001b[0m",
            "\u001b[0;31mKeyboardInterrupt\u001b[0m                         Traceback (most recent call last)",
            "\u001b[0;32m<ipython-input-31-19157623520c>\u001b[0m in \u001b[0;36m<cell line: 1>\u001b[0;34m()\u001b[0m\n\u001b[0;32m----> 1\u001b[0;31m \u001b[0mcluster_labels\u001b[0m \u001b[0;34m=\u001b[0m \u001b[0mdbscan\u001b[0m\u001b[0;34m(\u001b[0m\u001b[0mvectors_reshaped\u001b[0m\u001b[0;34m,\u001b[0m \u001b[0;36m20\u001b[0m\u001b[0;34m,\u001b[0m \u001b[0;36m5\u001b[0m\u001b[0;34m)\u001b[0m\u001b[0;34m\u001b[0m\u001b[0;34m\u001b[0m\u001b[0m\n\u001b[0m",
            "\u001b[0;32m<ipython-input-30-a15d17169acc>\u001b[0m in \u001b[0;36mdbscan\u001b[0;34m(D, eps, MinPts)\u001b[0m\n\u001b[1;32m     49\u001b[0m         \u001b[0;32melse\u001b[0m\u001b[0;34m:\u001b[0m\u001b[0;34m\u001b[0m\u001b[0;34m\u001b[0m\u001b[0m\n\u001b[1;32m     50\u001b[0m            \u001b[0mC\u001b[0m \u001b[0;34m+=\u001b[0m \u001b[0;36m1\u001b[0m\u001b[0;34m\u001b[0m\u001b[0;34m\u001b[0m\u001b[0m\n\u001b[0;32m---> 51\u001b[0;31m            \u001b[0mgrow_cluster\u001b[0m\u001b[0;34m(\u001b[0m\u001b[0mD\u001b[0m\u001b[0;34m,\u001b[0m \u001b[0mlabels\u001b[0m\u001b[0;34m,\u001b[0m \u001b[0mP\u001b[0m\u001b[0;34m,\u001b[0m \u001b[0mNeighborPts\u001b[0m\u001b[0;34m,\u001b[0m \u001b[0mC\u001b[0m\u001b[0;34m,\u001b[0m \u001b[0meps\u001b[0m\u001b[0;34m,\u001b[0m \u001b[0mMinPts\u001b[0m\u001b[0;34m)\u001b[0m\u001b[0;34m\u001b[0m\u001b[0;34m\u001b[0m\u001b[0m\n\u001b[0m\u001b[1;32m     52\u001b[0m \u001b[0;34m\u001b[0m\u001b[0m\n\u001b[1;32m     53\u001b[0m     \u001b[0;31m# All data has been clustered!\u001b[0m\u001b[0;34m\u001b[0m\u001b[0;34m\u001b[0m\u001b[0m\n",
            "\u001b[0;32m<ipython-input-30-a15d17169acc>\u001b[0m in \u001b[0;36mgrow_cluster\u001b[0;34m(D, labels, P, NeighborPts, C, eps, MinPts)\u001b[0m\n\u001b[1;32m     82\u001b[0m     \u001b[0;31m# dataset.\u001b[0m\u001b[0;34m\u001b[0m\u001b[0;34m\u001b[0m\u001b[0m\n\u001b[1;32m     83\u001b[0m     \u001b[0mi\u001b[0m \u001b[0;34m=\u001b[0m \u001b[0;36m0\u001b[0m\u001b[0;34m\u001b[0m\u001b[0;34m\u001b[0m\u001b[0m\n\u001b[0;32m---> 84\u001b[0;31m     \u001b[0;32mwhile\u001b[0m \u001b[0mi\u001b[0m \u001b[0;34m<\u001b[0m \u001b[0mlen\u001b[0m\u001b[0;34m(\u001b[0m\u001b[0mNeighborPts\u001b[0m\u001b[0;34m)\u001b[0m\u001b[0;34m:\u001b[0m\u001b[0;34m\u001b[0m\u001b[0;34m\u001b[0m\u001b[0m\n\u001b[0m\u001b[1;32m     85\u001b[0m \u001b[0;34m\u001b[0m\u001b[0m\n\u001b[1;32m     86\u001b[0m         \u001b[0;31m# Get the next point from the queue.\u001b[0m\u001b[0;34m\u001b[0m\u001b[0;34m\u001b[0m\u001b[0m\n",
            "\u001b[0;31mKeyboardInterrupt\u001b[0m: "
          ]
        }
      ],
      "source": [
        "cluster_labels = dbscan(vectors_reshaped, 20, 5)"
      ]
    },
    {
      "cell_type": "markdown",
      "metadata": {
        "id": "oeBd_3t8jdch"
      },
      "source": [
        "# **DBSCAN**"
      ]
    },
    {
      "cell_type": "code",
      "execution_count": null,
      "metadata": {
        "id": "m8tc5RUIvNty"
      },
      "outputs": [],
      "source": [
        "dbscan = DBSCAN(eps=5, min_samples=10)\n",
        "dbscan.fit(vectors_reshaped)"
      ]
    },
    {
      "cell_type": "code",
      "execution_count": null,
      "metadata": {
        "id": "PiPkY3PcvPzX"
      },
      "outputs": [],
      "source": [
        "cluster_labels = dbscan.labels_\n",
        "coords = vectors.toarray()"
      ]
    },
    {
      "cell_type": "code",
      "execution_count": null,
      "metadata": {
        "id": "ZGUOSSsKvSUw"
      },
      "outputs": [],
      "source": [
        "no_clusters = len(np.unique(cluster_labels) )\n",
        "no_noise = np.sum(np.array(cluster_labels) == -1, axis=0)\n",
        "\n",
        "print('Estimated no. of clusters: %d' % no_clusters)\n",
        "print('Estimated no. of noise points: %d' % no_noise)"
      ]
    },
    {
      "cell_type": "code",
      "execution_count": null,
      "metadata": {
        "id": "WoS76_-pvUdK"
      },
      "outputs": [],
      "source": [
        "colors = list(map(lambda x: '#3b4cc0' if x == 1 else '#b40426', cluster_labels))\n",
        "plt.scatter(x, y, c=colors, marker=\"o\", picker=True)\n",
        "plt.show()"
      ]
    }
  ],
  "metadata": {
    "colab": {
      "collapsed_sections": [
        "qJ-nk53uamWw",
        "DFiiMMmciBec",
        "1IEi-FjDaW1A",
        "V6DqL-zWaqCC",
        "XDaa8RbPvGan",
        "j6xpR3s6xREt"
      ],
      "provenance": []
    },
    "kernelspec": {
      "display_name": "Python 3",
      "name": "python3"
    },
    "language_info": {
      "name": "python"
    }
  },
  "nbformat": 4,
  "nbformat_minor": 0
}